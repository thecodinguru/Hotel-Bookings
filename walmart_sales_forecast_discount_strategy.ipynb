{
  "nbformat": 4,
  "nbformat_minor": 0,
  "metadata": {
    "colab": {
      "name": "walmart-sales-forecast-discount-strategy.ipynb",
      "provenance": [],
      "include_colab_link": true
    },
    "kernelspec": {
      "display_name": "Python 3",
      "language": "python",
      "name": "python3"
    },
    "language_info": {
      "codemirror_mode": {
        "name": "ipython",
        "version": 3
      },
      "file_extension": ".py",
      "mimetype": "text/x-python",
      "name": "python",
      "nbconvert_exporter": "python",
      "pygments_lexer": "ipython3",
      "version": "3.6.4"
    }
  },
  "cells": [
    {
      "cell_type": "markdown",
      "metadata": {
        "id": "view-in-github",
        "colab_type": "text"
      },
      "source": [
        "<a href=\"https://colab.research.google.com/github/thecodinguru/Walmart-Labs-Interview-Project/blob/main/walmart_sales_forecast_discount_strategy.ipynb\" target=\"_parent\"><img src=\"https://colab.research.google.com/assets/colab-badge.svg\" alt=\"Open In Colab\"/></a>"
      ]
    },
    {
      "cell_type": "code",
      "metadata": {
        "id": "_ykMVLioFLGq"
      },
      "source": [
        "\"\"\"\"\"\"\"\"\"\"\"\"\"\"\"\"\"\"\"\"\"\"\"\n",
        "Install and I'll explain both libraries later...\n",
        "\"\"\"\"\"\"\"\"\"\"\"\"\"\"\"\"\"\"\"\"\"\"\"\n",
        "! pip install lale\n",
        "! pip install lime\n",
        "\"\"\"\"\"\"\"\"\"\"\"\"\"\"\"\"\"\"\"\"\"\"\"\n",
        "Comment out both pip installs once completed\n",
        "\"\"\"\"\"\"\"\"\"\"\"\"\"\"\"\"\"\"\"\"\"\"\""
      ],
      "execution_count": null,
      "outputs": []
    },
    {
      "cell_type": "markdown",
      "metadata": {
        "id": "kxCzMF8iGPgS"
      },
      "source": [
        "In case you  can't wait and you are wondering what lale and lime is:\n",
        "\n",
        "Lale: \n",
        "\n",
        "https://www.marktechpost.com/2020/09/30/lale-a-python-library-simplifying-automated-machine-learning/\n",
        "\n",
        "Lime: \n",
        "\n",
        "https://towardsdatascience.com/decrypting-your-machine-learning-model-using-lime-5adc035109b5"
      ]
    },
    {
      "cell_type": "markdown",
      "metadata": {
        "id": "hSaHhxhwFLGv"
      },
      "source": [
        "# Walmart Store Sales:  \n",
        "\n",
        "**Basic Goals:** \n",
        "* Showcase EDA skills to describe and clean the data, and to understand attributes\n",
        "* Feature engineering to keep only important attributes\n",
        "* Develop a framework to evaluate and spot-check algorithms\n",
        "* Work on predicting and explaining future sales\n",
        "* Try and identify the right time for discount strategies\n",
        "\n",
        "You can find the dataset at:\n",
        "\n",
        "https://www.kaggle.com/c/walmart-recruiting-store-sales-forecasting/data\n",
        "\n",
        "\n",
        "**Dataset Description:**\n",
        "* stores.csv\n",
        "\n",
        "This file contains  information about the 45 stores, indicating the type and size of the store.\n",
        "\n",
        "* train.csv\n",
        "\n",
        "This is the historical training data, which covers from 2010-02-05 to 2012-11-01. Within this file contains:\n",
        "\n",
        "Store - the store number  \n",
        "Dept - the department number   \n",
        "Date - the week \n",
        "Weekly_Sales -  sales for the given department in the given store  \n",
        "IsHoliday - whether the week is a special holiday week  \n",
        "\n",
        "* test.csv\n",
        "\n",
        "This file is identical to train.csv, except we have withheld the weekly sales.\n",
        "\n",
        "* features.csv\n",
        "\n",
        "This file contains additional data related to each Walmart store, department, and regional activity for the given dates. It contains the following fields:  \n",
        "\n",
        "Store - the store number  \n",
        "Date - the week  \n",
        "Temperature - the average temperature in the region  \n",
        "Fuel_Price - the cost of fuel in the region  \n",
        "MarkDown1-5 - data related to promotional markdowns that Walmart is running. MarkDown data is only available after Nov 2011, and is not available for all stores all the time. Any missing value I plan to mark with an NA.  \n",
        "CPI - the consumer price index   \n",
        "Unemployment - the unemployment rate   \n",
        "IsHoliday - whether the week is a special holiday week  "
      ]
    },
    {
      "cell_type": "markdown",
      "metadata": {
        "id": "18cIIa5rFLGw"
      },
      "source": [
        "# Import Needed Libraries"
      ]
    },
    {
      "cell_type": "code",
      "metadata": {
        "id": "Hm_pWE9RFLGw",
        "outputId": "596c40de-dab4-484e-e48a-0ec8ea796026",
        "colab": {
          "base_uri": "https://localhost:8080/",
          "height": 37
        }
      },
      "source": [
        "import sys\n",
        "import IPython\n",
        "import pandas as pd\n",
        "from pandas import set_option\n",
        "set_option('display.width', 160)\n",
        "import numpy as np\n",
        "import matplotlib.pyplot as plt\n",
        "import seaborn as sns\n",
        "from IPython.display import display\n",
        "%matplotlib inline\n",
        "import plotly.offline as py\n",
        "import plotly.graph_objs as go\n",
        "import plotly.tools as tls\n",
        "py.init_notebook_mode(connected=True)\n",
        "import warnings\n",
        "warnings.filterwarnings('ignore')\n",
        "from scipy.stats import skew\n",
        "from scipy.stats import kurtosis"
      ],
      "execution_count": null,
      "outputs": [
        {
          "output_type": "display_data",
          "data": {
            "text/html": [
              "        <script type=\"text/javascript\">\n",
              "        window.PlotlyConfig = {MathJaxConfig: 'local'};\n",
              "        if (window.MathJax) {MathJax.Hub.Config({SVG: {font: \"STIX-Web\"}});}\n",
              "        if (typeof require !== 'undefined') {\n",
              "        require.undef(\"plotly\");\n",
              "        requirejs.config({\n",
              "            paths: {\n",
              "                'plotly': ['https://cdn.plot.ly/plotly-latest.min']\n",
              "            }\n",
              "        });\n",
              "        require(['plotly'], function(Plotly) {\n",
              "            window._Plotly = Plotly;\n",
              "        });\n",
              "        }\n",
              "        </script>\n",
              "        "
            ]
          },
          "metadata": {
            "tags": []
          }
        }
      ]
    },
    {
      "cell_type": "markdown",
      "metadata": {
        "id": "tjGroA3GFLGz"
      },
      "source": [
        "# Load dataset"
      ]
    },
    {
      "cell_type": "code",
      "metadata": {
        "id": "2oP7CYyiFLGz"
      },
      "source": [
        "train=pd.read_csv(\"https://raw.githubusercontent.com/thecodinguru/Walmart-Labs-Interview-Project/main/train.csv\", parse_dates=[\"Date\"])\n",
        "test=pd.read_csv(\"https://raw.githubusercontent.com/thecodinguru/Walmart-Labs-Interview-Project/main/test.csv\", parse_dates=[\"Date\"])\n",
        "stores=pd.read_csv(\"https://raw.githubusercontent.com/thecodinguru/Walmart-Labs-Interview-Project/main/stores.csv\")\n",
        "features = pd.read_csv(\"https://raw.githubusercontent.com/thecodinguru/Walmart-Labs-Interview-Project/main/features.csv\", parse_dates=[\"Date\"])\n",
        "# merging store and feature attributes into one dataset with test, train\n",
        "train = train.merge(stores, how='left').merge(features, how='left')\n",
        "test = test.merge(stores, how='left').merge(features, how='left')"
      ],
      "execution_count": null,
      "outputs": []
    },
    {
      "cell_type": "markdown",
      "metadata": {
        "id": "A1dGS_bOFLG2"
      },
      "source": [
        "# Summarize Data"
      ]
    },
    {
      "cell_type": "code",
      "metadata": {
        "id": "sJn2WjnzFLG2",
        "outputId": "c317fadf-0060-423a-ede4-9fda621d51a3",
        "colab": {
          "base_uri": "https://localhost:8080/",
          "height": 759
        }
      },
      "source": [
        "train.info()\n",
        "print(\"\\n\")\n",
        "train.head()"
      ],
      "execution_count": null,
      "outputs": [
        {
          "output_type": "stream",
          "text": [
            "<class 'pandas.core.frame.DataFrame'>\n",
            "Int64Index: 421570 entries, 0 to 421569\n",
            "Data columns (total 16 columns):\n",
            " #   Column        Non-Null Count   Dtype         \n",
            "---  ------        --------------   -----         \n",
            " 0   Store         421570 non-null  int64         \n",
            " 1   Dept          421570 non-null  int64         \n",
            " 2   Date          421570 non-null  datetime64[ns]\n",
            " 3   Weekly_Sales  421570 non-null  float64       \n",
            " 4   IsHoliday     421570 non-null  bool          \n",
            " 5   Type          421570 non-null  object        \n",
            " 6   Size          421570 non-null  int64         \n",
            " 7   Temperature   421570 non-null  float64       \n",
            " 8   Fuel_Price    421570 non-null  float64       \n",
            " 9   MarkDown1     150681 non-null  float64       \n",
            " 10  MarkDown2     111248 non-null  float64       \n",
            " 11  MarkDown3     137091 non-null  float64       \n",
            " 12  MarkDown4     134967 non-null  float64       \n",
            " 13  MarkDown5     151432 non-null  float64       \n",
            " 14  CPI           421570 non-null  float64       \n",
            " 15  Unemployment  421570 non-null  float64       \n",
            "dtypes: bool(1), datetime64[ns](1), float64(10), int64(3), object(1)\n",
            "memory usage: 51.9+ MB\n",
            "\n",
            "\n"
          ],
          "name": "stdout"
        },
        {
          "output_type": "execute_result",
          "data": {
            "text/html": [
              "<div>\n",
              "<style scoped>\n",
              "    .dataframe tbody tr th:only-of-type {\n",
              "        vertical-align: middle;\n",
              "    }\n",
              "\n",
              "    .dataframe tbody tr th {\n",
              "        vertical-align: top;\n",
              "    }\n",
              "\n",
              "    .dataframe thead th {\n",
              "        text-align: right;\n",
              "    }\n",
              "</style>\n",
              "<table border=\"1\" class=\"dataframe\">\n",
              "  <thead>\n",
              "    <tr style=\"text-align: right;\">\n",
              "      <th></th>\n",
              "      <th>Store</th>\n",
              "      <th>Dept</th>\n",
              "      <th>Date</th>\n",
              "      <th>Weekly_Sales</th>\n",
              "      <th>IsHoliday</th>\n",
              "      <th>Type</th>\n",
              "      <th>Size</th>\n",
              "      <th>Temperature</th>\n",
              "      <th>Fuel_Price</th>\n",
              "      <th>MarkDown1</th>\n",
              "      <th>MarkDown2</th>\n",
              "      <th>MarkDown3</th>\n",
              "      <th>MarkDown4</th>\n",
              "      <th>MarkDown5</th>\n",
              "      <th>CPI</th>\n",
              "      <th>Unemployment</th>\n",
              "    </tr>\n",
              "  </thead>\n",
              "  <tbody>\n",
              "    <tr>\n",
              "      <th>0</th>\n",
              "      <td>1</td>\n",
              "      <td>1</td>\n",
              "      <td>2010-02-05</td>\n",
              "      <td>24924.50</td>\n",
              "      <td>False</td>\n",
              "      <td>A</td>\n",
              "      <td>151315</td>\n",
              "      <td>42.31</td>\n",
              "      <td>2.572</td>\n",
              "      <td>NaN</td>\n",
              "      <td>NaN</td>\n",
              "      <td>NaN</td>\n",
              "      <td>NaN</td>\n",
              "      <td>NaN</td>\n",
              "      <td>211.096358</td>\n",
              "      <td>8.106</td>\n",
              "    </tr>\n",
              "    <tr>\n",
              "      <th>1</th>\n",
              "      <td>1</td>\n",
              "      <td>1</td>\n",
              "      <td>2010-02-12</td>\n",
              "      <td>46039.49</td>\n",
              "      <td>True</td>\n",
              "      <td>A</td>\n",
              "      <td>151315</td>\n",
              "      <td>38.51</td>\n",
              "      <td>2.548</td>\n",
              "      <td>NaN</td>\n",
              "      <td>NaN</td>\n",
              "      <td>NaN</td>\n",
              "      <td>NaN</td>\n",
              "      <td>NaN</td>\n",
              "      <td>211.242170</td>\n",
              "      <td>8.106</td>\n",
              "    </tr>\n",
              "    <tr>\n",
              "      <th>2</th>\n",
              "      <td>1</td>\n",
              "      <td>1</td>\n",
              "      <td>2010-02-19</td>\n",
              "      <td>41595.55</td>\n",
              "      <td>False</td>\n",
              "      <td>A</td>\n",
              "      <td>151315</td>\n",
              "      <td>39.93</td>\n",
              "      <td>2.514</td>\n",
              "      <td>NaN</td>\n",
              "      <td>NaN</td>\n",
              "      <td>NaN</td>\n",
              "      <td>NaN</td>\n",
              "      <td>NaN</td>\n",
              "      <td>211.289143</td>\n",
              "      <td>8.106</td>\n",
              "    </tr>\n",
              "    <tr>\n",
              "      <th>3</th>\n",
              "      <td>1</td>\n",
              "      <td>1</td>\n",
              "      <td>2010-02-26</td>\n",
              "      <td>19403.54</td>\n",
              "      <td>False</td>\n",
              "      <td>A</td>\n",
              "      <td>151315</td>\n",
              "      <td>46.63</td>\n",
              "      <td>2.561</td>\n",
              "      <td>NaN</td>\n",
              "      <td>NaN</td>\n",
              "      <td>NaN</td>\n",
              "      <td>NaN</td>\n",
              "      <td>NaN</td>\n",
              "      <td>211.319643</td>\n",
              "      <td>8.106</td>\n",
              "    </tr>\n",
              "    <tr>\n",
              "      <th>4</th>\n",
              "      <td>1</td>\n",
              "      <td>1</td>\n",
              "      <td>2010-03-05</td>\n",
              "      <td>21827.90</td>\n",
              "      <td>False</td>\n",
              "      <td>A</td>\n",
              "      <td>151315</td>\n",
              "      <td>46.50</td>\n",
              "      <td>2.625</td>\n",
              "      <td>NaN</td>\n",
              "      <td>NaN</td>\n",
              "      <td>NaN</td>\n",
              "      <td>NaN</td>\n",
              "      <td>NaN</td>\n",
              "      <td>211.350143</td>\n",
              "      <td>8.106</td>\n",
              "    </tr>\n",
              "  </tbody>\n",
              "</table>\n",
              "</div>"
            ],
            "text/plain": [
              "   Store  Dept       Date  ...  MarkDown5         CPI Unemployment\n",
              "0      1     1 2010-02-05  ...        NaN  211.096358        8.106\n",
              "1      1     1 2010-02-12  ...        NaN  211.242170        8.106\n",
              "2      1     1 2010-02-19  ...        NaN  211.289143        8.106\n",
              "3      1     1 2010-02-26  ...        NaN  211.319643        8.106\n",
              "4      1     1 2010-03-05  ...        NaN  211.350143        8.106\n",
              "\n",
              "[5 rows x 16 columns]"
            ]
          },
          "metadata": {
            "tags": []
          },
          "execution_count": 104
        }
      ]
    },
    {
      "cell_type": "code",
      "metadata": {
        "id": "CX13X0_jFLG4",
        "outputId": "36a3ae53-ec90-489b-c4e5-8104a178bc67",
        "colab": {
          "base_uri": "https://localhost:8080/",
          "height": 741
        }
      },
      "source": [
        "test.info()\n",
        "print(\"\\n\")\n",
        "test.head()"
      ],
      "execution_count": null,
      "outputs": [
        {
          "output_type": "stream",
          "text": [
            "<class 'pandas.core.frame.DataFrame'>\n",
            "Int64Index: 115064 entries, 0 to 115063\n",
            "Data columns (total 15 columns):\n",
            " #   Column        Non-Null Count   Dtype         \n",
            "---  ------        --------------   -----         \n",
            " 0   Store         115064 non-null  int64         \n",
            " 1   Dept          115064 non-null  int64         \n",
            " 2   Date          115064 non-null  datetime64[ns]\n",
            " 3   IsHoliday     115064 non-null  bool          \n",
            " 4   Type          115064 non-null  object        \n",
            " 5   Size          115064 non-null  int64         \n",
            " 6   Temperature   115064 non-null  float64       \n",
            " 7   Fuel_Price    115064 non-null  float64       \n",
            " 8   MarkDown1     114915 non-null  float64       \n",
            " 9   MarkDown2     86437 non-null   float64       \n",
            " 10  MarkDown3     105235 non-null  float64       \n",
            " 11  MarkDown4     102176 non-null  float64       \n",
            " 12  MarkDown5     115064 non-null  float64       \n",
            " 13  CPI           76902 non-null   float64       \n",
            " 14  Unemployment  76902 non-null   float64       \n",
            "dtypes: bool(1), datetime64[ns](1), float64(9), int64(3), object(1)\n",
            "memory usage: 13.3+ MB\n",
            "\n",
            "\n"
          ],
          "name": "stdout"
        },
        {
          "output_type": "execute_result",
          "data": {
            "text/html": [
              "<div>\n",
              "<style scoped>\n",
              "    .dataframe tbody tr th:only-of-type {\n",
              "        vertical-align: middle;\n",
              "    }\n",
              "\n",
              "    .dataframe tbody tr th {\n",
              "        vertical-align: top;\n",
              "    }\n",
              "\n",
              "    .dataframe thead th {\n",
              "        text-align: right;\n",
              "    }\n",
              "</style>\n",
              "<table border=\"1\" class=\"dataframe\">\n",
              "  <thead>\n",
              "    <tr style=\"text-align: right;\">\n",
              "      <th></th>\n",
              "      <th>Store</th>\n",
              "      <th>Dept</th>\n",
              "      <th>Date</th>\n",
              "      <th>IsHoliday</th>\n",
              "      <th>Type</th>\n",
              "      <th>Size</th>\n",
              "      <th>Temperature</th>\n",
              "      <th>Fuel_Price</th>\n",
              "      <th>MarkDown1</th>\n",
              "      <th>MarkDown2</th>\n",
              "      <th>MarkDown3</th>\n",
              "      <th>MarkDown4</th>\n",
              "      <th>MarkDown5</th>\n",
              "      <th>CPI</th>\n",
              "      <th>Unemployment</th>\n",
              "    </tr>\n",
              "  </thead>\n",
              "  <tbody>\n",
              "    <tr>\n",
              "      <th>0</th>\n",
              "      <td>1</td>\n",
              "      <td>1</td>\n",
              "      <td>2012-11-02</td>\n",
              "      <td>False</td>\n",
              "      <td>A</td>\n",
              "      <td>151315</td>\n",
              "      <td>55.32</td>\n",
              "      <td>3.386</td>\n",
              "      <td>6766.44</td>\n",
              "      <td>5147.70</td>\n",
              "      <td>50.82</td>\n",
              "      <td>3639.90</td>\n",
              "      <td>2737.42</td>\n",
              "      <td>223.462779</td>\n",
              "      <td>6.573</td>\n",
              "    </tr>\n",
              "    <tr>\n",
              "      <th>1</th>\n",
              "      <td>1</td>\n",
              "      <td>1</td>\n",
              "      <td>2012-11-09</td>\n",
              "      <td>False</td>\n",
              "      <td>A</td>\n",
              "      <td>151315</td>\n",
              "      <td>61.24</td>\n",
              "      <td>3.314</td>\n",
              "      <td>11421.32</td>\n",
              "      <td>3370.89</td>\n",
              "      <td>40.28</td>\n",
              "      <td>4646.79</td>\n",
              "      <td>6154.16</td>\n",
              "      <td>223.481307</td>\n",
              "      <td>6.573</td>\n",
              "    </tr>\n",
              "    <tr>\n",
              "      <th>2</th>\n",
              "      <td>1</td>\n",
              "      <td>1</td>\n",
              "      <td>2012-11-16</td>\n",
              "      <td>False</td>\n",
              "      <td>A</td>\n",
              "      <td>151315</td>\n",
              "      <td>52.92</td>\n",
              "      <td>3.252</td>\n",
              "      <td>9696.28</td>\n",
              "      <td>292.10</td>\n",
              "      <td>103.78</td>\n",
              "      <td>1133.15</td>\n",
              "      <td>6612.69</td>\n",
              "      <td>223.512911</td>\n",
              "      <td>6.573</td>\n",
              "    </tr>\n",
              "    <tr>\n",
              "      <th>3</th>\n",
              "      <td>1</td>\n",
              "      <td>1</td>\n",
              "      <td>2012-11-23</td>\n",
              "      <td>True</td>\n",
              "      <td>A</td>\n",
              "      <td>151315</td>\n",
              "      <td>56.23</td>\n",
              "      <td>3.211</td>\n",
              "      <td>883.59</td>\n",
              "      <td>4.17</td>\n",
              "      <td>74910.32</td>\n",
              "      <td>209.91</td>\n",
              "      <td>303.32</td>\n",
              "      <td>223.561947</td>\n",
              "      <td>6.573</td>\n",
              "    </tr>\n",
              "    <tr>\n",
              "      <th>4</th>\n",
              "      <td>1</td>\n",
              "      <td>1</td>\n",
              "      <td>2012-11-30</td>\n",
              "      <td>False</td>\n",
              "      <td>A</td>\n",
              "      <td>151315</td>\n",
              "      <td>52.34</td>\n",
              "      <td>3.207</td>\n",
              "      <td>2460.03</td>\n",
              "      <td>NaN</td>\n",
              "      <td>3838.35</td>\n",
              "      <td>150.57</td>\n",
              "      <td>6966.34</td>\n",
              "      <td>223.610984</td>\n",
              "      <td>6.573</td>\n",
              "    </tr>\n",
              "  </tbody>\n",
              "</table>\n",
              "</div>"
            ],
            "text/plain": [
              "   Store  Dept       Date  ...  MarkDown5         CPI  Unemployment\n",
              "0      1     1 2012-11-02  ...    2737.42  223.462779         6.573\n",
              "1      1     1 2012-11-09  ...    6154.16  223.481307         6.573\n",
              "2      1     1 2012-11-16  ...    6612.69  223.512911         6.573\n",
              "3      1     1 2012-11-23  ...     303.32  223.561947         6.573\n",
              "4      1     1 2012-11-30  ...    6966.34  223.610984         6.573\n",
              "\n",
              "[5 rows x 15 columns]"
            ]
          },
          "metadata": {
            "tags": []
          },
          "execution_count": 105
        }
      ]
    },
    {
      "cell_type": "markdown",
      "metadata": {
        "id": "xX7kvOPaFLG7"
      },
      "source": [
        "After running the cell, we can see that the test dataset do not contain the features included in the train dataset, taking into consideration that these features (Temperature, Fuel price, MarkDowns, CPI and Unemployment) cannot be used in the test dataset due to their high dependences on the date, so it will be a good idea to delete them when we begin feature engineering. but before that, we will make sure that these features don't provide any information on the target column 'Weekly_Sales'. "
      ]
    },
    {
      "cell_type": "code",
      "metadata": {
        "id": "QIQ7UCl_FLG7",
        "outputId": "6bb3ad04-fcb8-48ed-8c42-74cf2fd52aad",
        "colab": {
          "base_uri": "https://localhost:8080/",
          "height": 343
        }
      },
      "source": [
        "# Checking for null values\n",
        "train.isnull().mean()*100"
      ],
      "execution_count": null,
      "outputs": [
        {
          "output_type": "execute_result",
          "data": {
            "text/plain": [
              "Store            0.000000\n",
              "Dept             0.000000\n",
              "Date             0.000000\n",
              "Weekly_Sales     0.000000\n",
              "IsHoliday        0.000000\n",
              "Type             0.000000\n",
              "Size             0.000000\n",
              "Temperature      0.000000\n",
              "Fuel_Price       0.000000\n",
              "MarkDown1       64.257181\n",
              "MarkDown2       73.611025\n",
              "MarkDown3       67.480845\n",
              "MarkDown4       67.984676\n",
              "MarkDown5       64.079038\n",
              "CPI              0.000000\n",
              "Unemployment     0.000000\n",
              "dtype: float64"
            ]
          },
          "metadata": {
            "tags": []
          },
          "execution_count": 106
        }
      ]
    },
    {
      "cell_type": "markdown",
      "metadata": {
        "id": "A9jCxx0mFLG9"
      },
      "source": [
        "The MarkDowns attributes have more than 64% of null values, in addition, the lack of understanding what MarkDowns exactly mean, it makes it difficult to fill the columns with appropriate values. \n",
        "Let's check their correlations with the target 'Weekly_Sales' and see if we can get rid of it."
      ]
    },
    {
      "cell_type": "code",
      "metadata": {
        "id": "Xel1qjssFLG-",
        "outputId": "0274592b-c76e-4085-c76f-2c02a25ad8e7",
        "colab": {
          "base_uri": "https://localhost:8080/",
          "height": 54
        }
      },
      "source": [
        "corr = train[['Weekly_Sales','Temperature', 'Fuel_Price', 'MarkDown1', 'MarkDown2',\n",
        "                 'MarkDown3', 'MarkDown4', 'MarkDown5', 'CPI', 'Unemployment']].corr()\n",
        "fig, ax = plt.subplots(figsize=(18, 12))\n",
        "ax = sns.heatmap(corr , vmin=-1, vmax=1, annot=True, fmt='.2f', cmap='coolwarm')\n",
        "plt.show()"
      ],
      "execution_count": null,
      "outputs": [
        {
          "output_type": "display_data",
          "data": {
            "image/png": "[encoded data removed]",
            "text/plain": [
              "<Figure size 1296x864 with 2 Axes>"
            ]
          },
          "metadata": {
            "tags": []
          }
        }
      ]
    },
    {
      "cell_type": "code",
      "metadata": {
        "id": "opwE0TR2FLHA",
        "outputId": "28482502-7754-49e0-bb1b-04eeaf02d7d8",
        "colab": {
          "base_uri": "https://localhost:8080/",
          "height": 235
        }
      },
      "source": [
        "abs(corr[\"Weekly_Sales\"])"
      ],
      "execution_count": null,
      "outputs": [
        {
          "output_type": "execute_result",
          "data": {
            "text/plain": [
              "Weekly_Sales    1.000000\n",
              "Temperature     0.002312\n",
              "Fuel_Price      0.000120\n",
              "MarkDown1       0.085251\n",
              "MarkDown2       0.024130\n",
              "MarkDown3       0.060385\n",
              "MarkDown4       0.045414\n",
              "MarkDown5       0.090362\n",
              "CPI             0.020921\n",
              "Unemployment    0.025864\n",
              "Name: Weekly_Sales, dtype: float64"
            ]
          },
          "metadata": {
            "tags": []
          },
          "execution_count": 108
        }
      ]
    },
    {
      "cell_type": "markdown",
      "metadata": {
        "id": "-NRt5C4JFLHC"
      },
      "source": [
        "As we can see, correlations of the features above with the target 'WeeklySales' are approximately 0. So it's safe to delete them."
      ]
    },
    {
      "cell_type": "code",
      "metadata": {
        "id": "9tNQUtonFLHC",
        "outputId": "6e2210e9-48dd-4155-ac7b-d00664d280aa",
        "colab": {
          "base_uri": "https://localhost:8080/",
          "height": 309
        }
      },
      "source": [
        "train = train.drop(['Temperature', 'Fuel_Price', 'MarkDown1', 'MarkDown2',\n",
        "                    'MarkDown3', 'MarkDown4', 'MarkDown5', 'CPI', 'Unemployment'], axis = 1)\n",
        "test = test.drop(['Temperature', 'Fuel_Price', 'MarkDown1', 'MarkDown2',\n",
        "                    'MarkDown3', 'MarkDown4', 'MarkDown5', 'CPI', 'Unemployment'], axis = 1)\n",
        "train.head()"
      ],
      "execution_count": null,
      "outputs": [
        {
          "output_type": "execute_result",
          "data": {
            "text/html": [
              "<div>\n",
              "<style scoped>\n",
              "    .dataframe tbody tr th:only-of-type {\n",
              "        vertical-align: middle;\n",
              "    }\n",
              "\n",
              "    .dataframe tbody tr th {\n",
              "        vertical-align: top;\n",
              "    }\n",
              "\n",
              "    .dataframe thead th {\n",
              "        text-align: right;\n",
              "    }\n",
              "</style>\n",
              "<table border=\"1\" class=\"dataframe\">\n",
              "  <thead>\n",
              "    <tr style=\"text-align: right;\">\n",
              "      <th></th>\n",
              "      <th>Store</th>\n",
              "      <th>Dept</th>\n",
              "      <th>Date</th>\n",
              "      <th>Weekly_Sales</th>\n",
              "      <th>IsHoliday</th>\n",
              "      <th>Type</th>\n",
              "      <th>Size</th>\n",
              "    </tr>\n",
              "  </thead>\n",
              "  <tbody>\n",
              "    <tr>\n",
              "      <th>0</th>\n",
              "      <td>1</td>\n",
              "      <td>1</td>\n",
              "      <td>2010-02-05</td>\n",
              "      <td>24924.50</td>\n",
              "      <td>False</td>\n",
              "      <td>A</td>\n",
              "      <td>151315</td>\n",
              "    </tr>\n",
              "    <tr>\n",
              "      <th>1</th>\n",
              "      <td>1</td>\n",
              "      <td>1</td>\n",
              "      <td>2010-02-12</td>\n",
              "      <td>46039.49</td>\n",
              "      <td>True</td>\n",
              "      <td>A</td>\n",
              "      <td>151315</td>\n",
              "    </tr>\n",
              "    <tr>\n",
              "      <th>2</th>\n",
              "      <td>1</td>\n",
              "      <td>1</td>\n",
              "      <td>2010-02-19</td>\n",
              "      <td>41595.55</td>\n",
              "      <td>False</td>\n",
              "      <td>A</td>\n",
              "      <td>151315</td>\n",
              "    </tr>\n",
              "    <tr>\n",
              "      <th>3</th>\n",
              "      <td>1</td>\n",
              "      <td>1</td>\n",
              "      <td>2010-02-26</td>\n",
              "      <td>19403.54</td>\n",
              "      <td>False</td>\n",
              "      <td>A</td>\n",
              "      <td>151315</td>\n",
              "    </tr>\n",
              "    <tr>\n",
              "      <th>4</th>\n",
              "      <td>1</td>\n",
              "      <td>1</td>\n",
              "      <td>2010-03-05</td>\n",
              "      <td>21827.90</td>\n",
              "      <td>False</td>\n",
              "      <td>A</td>\n",
              "      <td>151315</td>\n",
              "    </tr>\n",
              "  </tbody>\n",
              "</table>\n",
              "</div>"
            ],
            "text/plain": [
              "   Store  Dept       Date  Weekly_Sales  IsHoliday Type    Size\n",
              "0      1     1 2010-02-05      24924.50      False    A  151315\n",
              "1      1     1 2010-02-12      46039.49       True    A  151315\n",
              "2      1     1 2010-02-19      41595.55      False    A  151315\n",
              "3      1     1 2010-02-26      19403.54      False    A  151315\n",
              "4      1     1 2010-03-05      21827.90      False    A  151315"
            ]
          },
          "metadata": {
            "tags": []
          },
          "execution_count": 109
        }
      ]
    },
    {
      "cell_type": "markdown",
      "metadata": {
        "id": "bqAcegNoFLHE"
      },
      "source": [
        "Another useful step I like to do is to deconstruct the 'Date' column by splitting it into its componenents (in this case, Year and week)."
      ]
    },
    {
      "cell_type": "code",
      "metadata": {
        "id": "SfYUJHlNFLHF",
        "outputId": "93c6ccce-8589-4fc3-8f61-f6406b1cb023",
        "colab": {
          "base_uri": "https://localhost:8080/",
          "height": 224
        }
      },
      "source": [
        "train['week']=train['Date'].dt.week\n",
        "train['year']=train['Date'].dt.year\n",
        "test['week']=test['Date'].dt.week\n",
        "test['year']=test['Date'].dt.year\n",
        "del test['Date']\n",
        "del train['Date']\n",
        "train.head()"
      ],
      "execution_count": null,
      "outputs": [
        {
          "output_type": "execute_result",
          "data": {
            "text/html": [
              "<div>\n",
              "<style scoped>\n",
              "    .dataframe tbody tr th:only-of-type {\n",
              "        vertical-align: middle;\n",
              "    }\n",
              "\n",
              "    .dataframe tbody tr th {\n",
              "        vertical-align: top;\n",
              "    }\n",
              "\n",
              "    .dataframe thead th {\n",
              "        text-align: right;\n",
              "    }\n",
              "</style>\n",
              "<table border=\"1\" class=\"dataframe\">\n",
              "  <thead>\n",
              "    <tr style=\"text-align: right;\">\n",
              "      <th></th>\n",
              "      <th>Store</th>\n",
              "      <th>Dept</th>\n",
              "      <th>Weekly_Sales</th>\n",
              "      <th>IsHoliday</th>\n",
              "      <th>Type</th>\n",
              "      <th>Size</th>\n",
              "      <th>week</th>\n",
              "      <th>year</th>\n",
              "    </tr>\n",
              "  </thead>\n",
              "  <tbody>\n",
              "    <tr>\n",
              "      <th>0</th>\n",
              "      <td>1</td>\n",
              "      <td>1</td>\n",
              "      <td>24924.50</td>\n",
              "      <td>False</td>\n",
              "      <td>A</td>\n",
              "      <td>151315</td>\n",
              "      <td>5</td>\n",
              "      <td>2010</td>\n",
              "    </tr>\n",
              "    <tr>\n",
              "      <th>1</th>\n",
              "      <td>1</td>\n",
              "      <td>1</td>\n",
              "      <td>46039.49</td>\n",
              "      <td>True</td>\n",
              "      <td>A</td>\n",
              "      <td>151315</td>\n",
              "      <td>6</td>\n",
              "      <td>2010</td>\n",
              "    </tr>\n",
              "    <tr>\n",
              "      <th>2</th>\n",
              "      <td>1</td>\n",
              "      <td>1</td>\n",
              "      <td>41595.55</td>\n",
              "      <td>False</td>\n",
              "      <td>A</td>\n",
              "      <td>151315</td>\n",
              "      <td>7</td>\n",
              "      <td>2010</td>\n",
              "    </tr>\n",
              "    <tr>\n",
              "      <th>3</th>\n",
              "      <td>1</td>\n",
              "      <td>1</td>\n",
              "      <td>19403.54</td>\n",
              "      <td>False</td>\n",
              "      <td>A</td>\n",
              "      <td>151315</td>\n",
              "      <td>8</td>\n",
              "      <td>2010</td>\n",
              "    </tr>\n",
              "    <tr>\n",
              "      <th>4</th>\n",
              "      <td>1</td>\n",
              "      <td>1</td>\n",
              "      <td>21827.90</td>\n",
              "      <td>False</td>\n",
              "      <td>A</td>\n",
              "      <td>151315</td>\n",
              "      <td>9</td>\n",
              "      <td>2010</td>\n",
              "    </tr>\n",
              "  </tbody>\n",
              "</table>\n",
              "</div>"
            ],
            "text/plain": [
              "   Store  Dept  Weekly_Sales  IsHoliday Type    Size  week  year\n",
              "0      1     1      24924.50      False    A  151315     5  2010\n",
              "1      1     1      46039.49       True    A  151315     6  2010\n",
              "2      1     1      41595.55      False    A  151315     7  2010\n",
              "3      1     1      19403.54      False    A  151315     8  2010\n",
              "4      1     1      21827.90      False    A  151315     9  2010"
            ]
          },
          "metadata": {
            "tags": []
          },
          "execution_count": 110
        }
      ]
    },
    {
      "cell_type": "code",
      "metadata": {
        "id": "4lYmnWG0FLHH",
        "outputId": "15bcc2bc-19fb-44b6-b7a3-103cbf6946a6",
        "colab": {
          "base_uri": "https://localhost:8080/",
          "height": 127
        }
      },
      "source": [
        "# Let's count and see the distinct value of Type :  \n",
        "print(train[['Type', 'IsHoliday']].nunique())\n",
        "Types = train['Type'].unique()\n",
        "Holi = train['IsHoliday'].unique()\n",
        "print(f'The 3 types of Store : {Types}')\n",
        "print(f'The Holiday Flag : {Holi}')"
      ],
      "execution_count": null,
      "outputs": [
        {
          "output_type": "stream",
          "text": [
            "Type         3\n",
            "IsHoliday    2\n",
            "dtype: int64\n",
            "The 3 types of Store : ['A' 'B' 'C']\n",
            "The Holiday Flag : [False  True]\n"
          ],
          "name": "stdout"
        }
      ]
    },
    {
      "cell_type": "markdown",
      "metadata": {
        "id": "THzlZJe6FLHH"
      },
      "source": [
        "Being a Linear problem, last step is to LabelEncode the categorigal attributes, namely, Type and IsHoliday:"
      ]
    },
    {
      "cell_type": "code",
      "metadata": {
        "id": "0iXdEMAkFLHJ",
        "outputId": "f5a11389-a685-4bd6-ec66-03889110cd19",
        "colab": {
          "base_uri": "https://localhost:8080/",
          "height": 73
        }
      },
      "source": [
        "from sklearn.preprocessing import LabelEncoder\n",
        "\n",
        "train['Type']=LabelEncoder().fit_transform(train['Type'])\n",
        "train['IsHoliday']=LabelEncoder().fit_transform(train['IsHoliday'])\n",
        "Types = train['Type'].unique()\n",
        "Holi = train['IsHoliday'].unique()\n",
        "print(f'The new 3 types of Store : {Types}')\n",
        "print(f'The Holiday Flag : {Holi}')\n",
        "\n",
        "# Test set\n",
        "test['IsHoliday']=LabelEncoder().fit_transform(test['IsHoliday'])\n",
        "test['Type']=LabelEncoder().fit_transform(test['Type'])"
      ],
      "execution_count": null,
      "outputs": [
        {
          "output_type": "stream",
          "text": [
            "The new 3 types of Store : [0 1 2]\n",
            "The Holiday Flag : [0 1]\n"
          ],
          "name": "stdout"
        }
      ]
    },
    {
      "cell_type": "markdown",
      "metadata": {
        "id": "O2RZM8AcFLHL"
      },
      "source": [
        "Now we proceed to analyse each attribute."
      ]
    },
    {
      "cell_type": "markdown",
      "metadata": {
        "id": "d2CjtEsVFLHM"
      },
      "source": [
        "# Quick Glance: Weekly Sales"
      ]
    },
    {
      "cell_type": "code",
      "metadata": {
        "id": "DGr7F607FLHM",
        "outputId": "916aafd8-9b32-4e52-d3c0-e08a3f02be07",
        "colab": {
          "base_uri": "https://localhost:8080/",
          "height": 199
        }
      },
      "source": [
        "# Weekly_Sales statistics:\n",
        "train['Weekly_Sales'].describe()"
      ],
      "execution_count": null,
      "outputs": [
        {
          "output_type": "execute_result",
          "data": {
            "text/plain": [
              "count    421570.000000\n",
              "mean      15981.258123\n",
              "std       22711.183519\n",
              "min       -4988.940000\n",
              "25%        2079.650000\n",
              "50%        7612.030000\n",
              "75%       20205.852500\n",
              "max      693099.360000\n",
              "Name: Weekly_Sales, dtype: float64"
            ]
          },
          "metadata": {
            "tags": []
          },
          "execution_count": 113
        }
      ]
    },
    {
      "cell_type": "markdown",
      "metadata": {
        "id": "K-DTPrQHFLHQ"
      },
      "source": [
        "Weekly Sales mean is much higher than the median (50%), which make its distribution skewed to the right."
      ]
    },
    {
      "cell_type": "code",
      "metadata": {
        "id": "46VnEA-GFLHR",
        "outputId": "b8bbf9c0-6952-4ecb-91dc-c1ad1792cddb",
        "colab": {
          "base_uri": "https://localhost:8080/",
          "height": 72
        }
      },
      "source": [
        "sns.kdeplot(train['Weekly_Sales'], shade=True);\n",
        "plt.show()\n",
        "print(\"%s: mean (%f), variance (%f), skewness (%f), kurtosis (%f)\" \n",
        "      % ('Weekly_Sales', np.mean(train['Weekly_Sales']), np.var(train['Weekly_Sales']),\n",
        "         skew(train['Weekly_Sales']), kurtosis(train['Weekly_Sales'])))"
      ],
      "execution_count": null,
      "outputs": [
        {
          "output_type": "display_data",
          "data": {
            "image/png": "[encoded data removed]",
            "text/plain": [
              "<Figure size 432x288 with 1 Axes>"
            ]
          },
          "metadata": {
            "tags": []
          }
        },
        {
          "output_type": "stream",
          "text": [
            "Weekly_Sales: mean (15981.258123), variance (515796633.324593), skewness (3.261997), kurtosis (21.491021)\n"
          ],
          "name": "stdout"
        }
      ]
    },
    {
      "cell_type": "markdown",
      "metadata": {
        "id": "oSzOuwHOFLHT"
      },
      "source": [
        "The plot makes the right skewness clear, so most weeks have sales around the median.  \n",
        "Also, we can see that the Weekly_Sales attribute has a large kurtosis which indicates the presence of extreme values, in other words, some weeks have high sales. It would be a good idea to get a better understanding of these extreme values. "
      ]
    },
    {
      "cell_type": "markdown",
      "metadata": {
        "id": "hzgjVUbYFLHT"
      },
      "source": [
        "We can have some idea on attributes contributing to the target Weekly_Sales, by calculating correlations : "
      ]
    },
    {
      "cell_type": "code",
      "metadata": {
        "id": "sZ2M5jpxFLHT",
        "outputId": "79bb357c-539a-49c0-d81a-8fc4f4053cf1",
        "colab": {
          "base_uri": "https://localhost:8080/",
          "height": 217
        }
      },
      "source": [
        "# Weekly_Sales Correlations:\n",
        "cor_Sales = abs(train.corr()['Weekly_Sales']).sort_values(ascending=False)\n",
        "print(cor_Sales, '\\n')"
      ],
      "execution_count": null,
      "outputs": [
        {
          "output_type": "stream",
          "text": [
            "Weekly_Sales    1.000000\n",
            "Size            0.243828\n",
            "Type            0.182242\n",
            "Dept            0.148032\n",
            "Store           0.085195\n",
            "week            0.027673\n",
            "IsHoliday       0.012774\n",
            "year            0.010111\n",
            "Name: Weekly_Sales, dtype: float64 \n",
            "\n"
          ],
          "name": "stdout"
        }
      ]
    },
    {
      "cell_type": "markdown",
      "metadata": {
        "id": "M7GfdE2fFLHV"
      },
      "source": [
        "* At first glance, the characteristics of the store (Type, Size and Departments) appear to correlate the most with the target."
      ]
    },
    {
      "cell_type": "markdown",
      "metadata": {
        "id": "ci5F_kdOFLHW"
      },
      "source": [
        "# Type Correlation"
      ]
    },
    {
      "cell_type": "code",
      "metadata": {
        "id": "pjsfbHonFLHW",
        "outputId": "f9da0a86-3566-4e6a-d5c6-0b58b7344c81",
        "colab": {
          "base_uri": "https://localhost:8080/",
          "height": 197
        }
      },
      "source": [
        "# Type Correlations:\n",
        "cor_Type = abs(train.corr()['Type']).sort_values(ascending=False)\n",
        "print(cor_Type, '\\n')"
      ],
      "execution_count": null,
      "outputs": [
        {
          "output_type": "stream",
          "text": [
            "Type            1.000000\n",
            "Size            0.811593\n",
            "Store           0.226410\n",
            "Weekly_Sales    0.182242\n",
            "year            0.004208\n",
            "Dept            0.003708\n",
            "IsHoliday       0.000798\n",
            "week            0.000003\n",
            "Name: Type, dtype: float64 \n",
            "\n"
          ],
          "name": "stdout"
        }
      ]
    },
    {
      "cell_type": "markdown",
      "metadata": {
        "id": "p7P0-pnPFLHb"
      },
      "source": [
        "Let's investigate the relation beetwen the store Type and other attributes."
      ]
    },
    {
      "cell_type": "code",
      "metadata": {
        "id": "T5gbUvD7FLHb"
      },
      "source": [
        "def xyBox(X,Y,showfliers=True, hue=None, figsize=(9, 6)) :\n",
        "    f, ax = plt.subplots(figsize=figsize)\n",
        "    fig = sns.boxplot(x=X, y=Y, data=train, showfliers=showfliers,hue=hue, showmeans=True, meanline=True, meanprops = dict(linestyle='--', linewidth=2.5, color='red'))\n",
        "    fig.text(-1.5, 0, 'mean : ---', color='red', weight='roman',size=14)"
      ],
      "execution_count": null,
      "outputs": []
    },
    {
      "cell_type": "code",
      "metadata": {
        "id": "rJzErq6sFLHe",
        "outputId": "f7c6cdd7-0399-4a35-d80a-ba5e52f3dbaf",
        "colab": {
          "base_uri": "https://localhost:8080/",
          "height": 54
        }
      },
      "source": [
        "xyBox('Type', 'Size')"
      ],
      "execution_count": null,
      "outputs": [
        {
          "output_type": "display_data",
          "data": {
            "image/png": "[encoded data removed]",
            "text/plain": [
              "<Figure size 648x432 with 1 Axes>"
            ]
          },
          "metadata": {
            "tags": []
          }
        }
      ]
    },
    {
      "cell_type": "markdown",
      "metadata": {
        "id": "XsE-fPiuFLHf"
      },
      "source": [
        "By neglecting the outliers, we can say that the store Type determines the size of it, Type 0 has the highest size and Type 2 has the lowest.  \n",
        "-> The two attributes are highly correlated (~0.81)"
      ]
    },
    {
      "cell_type": "code",
      "metadata": {
        "id": "kTCYWqpnFLHg",
        "outputId": "64d50346-5a66-484b-b63c-70628c5d0d75",
        "colab": {
          "base_uri": "https://localhost:8080/",
          "height": 54
        }
      },
      "source": [
        "xyBox('Type', 'Store')"
      ],
      "execution_count": null,
      "outputs": [
        {
          "output_type": "display_data",
          "data": {
            "image/png": "[encoded data removed]",
            "text/plain": [
              "<Figure size 648x432 with 1 Axes>"
            ]
          },
          "metadata": {
            "tags": []
          }
        }
      ]
    },
    {
      "cell_type": "markdown",
      "metadata": {
        "id": "GK9N0VAPFLHi"
      },
      "source": [
        "Type 0 includes a large range of possible stores, which overlaps with other Types. As a result, we have a moderate correlation (~0.22) between Type and Store.  "
      ]
    },
    {
      "cell_type": "code",
      "metadata": {
        "id": "nY0NZS3yFLHi",
        "outputId": "3d0fbade-4272-45f8-feab-0e64908dddd6",
        "colab": {
          "base_uri": "https://localhost:8080/",
          "height": 54
        }
      },
      "source": [
        "xyBox('Type', 'Weekly_Sales',showfliers=False)"
      ],
      "execution_count": null,
      "outputs": [
        {
          "output_type": "display_data",
          "data": {
            "image/png": "[encoded data removed]",
            "text/plain": [
              "<Figure size 648x432 with 1 Axes>"
            ]
          },
          "metadata": {
            "tags": []
          }
        }
      ]
    },
    {
      "cell_type": "markdown",
      "metadata": {
        "id": "F-hHGxPQFLHl"
      },
      "source": [
        "We can see that store Type 0 has the highest median (mean) in terms of weekly sales, and Type 2 has the lowest."
      ]
    },
    {
      "cell_type": "markdown",
      "metadata": {
        "id": "9_Igtm-4FLHm"
      },
      "source": [
        "**Conclusion:**\n",
        "* The store Type may provide information on the target.  \n",
        "* The store Type gives implicit information on the size of the store."
      ]
    },
    {
      "cell_type": "markdown",
      "metadata": {
        "id": "KG-APfkAFLHm"
      },
      "source": [
        "# Size Correlation"
      ]
    },
    {
      "cell_type": "code",
      "metadata": {
        "id": "t8UrFkAbFLHn",
        "outputId": "4d5da3ca-7804-4e9c-a188-bcd1769db6e3",
        "colab": {
          "base_uri": "https://localhost:8080/",
          "height": 217
        }
      },
      "source": [
        "# Size Correlations:\n",
        "cor_Size = abs(train.corr()['Size']).sort_values(ascending=False)\n",
        "print(cor_Size, '\\n')"
      ],
      "execution_count": null,
      "outputs": [
        {
          "output_type": "stream",
          "text": [
            "Size            1.000000\n",
            "Type            0.811593\n",
            "Weekly_Sales    0.243828\n",
            "Store           0.182881\n",
            "year            0.004975\n",
            "Dept            0.002966\n",
            "week            0.001292\n",
            "IsHoliday       0.000593\n",
            "Name: Size, dtype: float64 \n",
            "\n"
          ],
          "name": "stdout"
        }
      ]
    },
    {
      "cell_type": "code",
      "metadata": {
        "id": "bz7o9oi5FLHp",
        "outputId": "06dd54ed-ee3d-44b7-f697-18dbc106d8a3",
        "colab": {
          "base_uri": "https://localhost:8080/",
          "height": 199
        }
      },
      "source": [
        "# Size statistics:\n",
        "train['Size'].describe()"
      ],
      "execution_count": null,
      "outputs": [
        {
          "output_type": "execute_result",
          "data": {
            "text/plain": [
              "count    421570.000000\n",
              "mean     136727.915739\n",
              "std       60980.583328\n",
              "min       34875.000000\n",
              "25%       93638.000000\n",
              "50%      140167.000000\n",
              "75%      202505.000000\n",
              "max      219622.000000\n",
              "Name: Size, dtype: float64"
            ]
          },
          "metadata": {
            "tags": []
          },
          "execution_count": 122
        }
      ]
    },
    {
      "cell_type": "code",
      "metadata": {
        "id": "ZKY2PvWCFLHs",
        "outputId": "99b0c6e0-df85-4e54-bd1f-7d5a0508ee17",
        "colab": {
          "base_uri": "https://localhost:8080/",
          "height": 54
        }
      },
      "source": [
        "# Size distribution :\n",
        "sns.distplot(train['Size']);\n",
        "plt.show()"
      ],
      "execution_count": null,
      "outputs": [
        {
          "output_type": "display_data",
          "data": {
            "image/png": "[encoded data removed]",
            "text/plain": [
              "<Figure size 432x288 with 1 Axes>"
            ]
          },
          "metadata": {
            "tags": []
          }
        }
      ]
    },
    {
      "cell_type": "markdown",
      "metadata": {
        "id": "ZIHjNYlgFLHu"
      },
      "source": [
        "The size has a balanced distribution (mean ~ median), and a large range.\n",
        "\n",
        "Roughly speaking, the store Size distribution has 3 \"peaks\", which can be attributed to the store Type as seen earlier.  "
      ]
    },
    {
      "cell_type": "code",
      "metadata": {
        "id": "uyEBDl45FLHu",
        "outputId": "59e7efe0-7ca5-4c44-a3af-9b9779f52140",
        "colab": {
          "base_uri": "https://localhost:8080/",
          "height": 54
        }
      },
      "source": [
        "# Size relation with Weekly_Sales\n",
        "sns.jointplot(x='Size', y='Weekly_Sales', data=train, height=8)\n",
        "plt.show()"
      ],
      "execution_count": null,
      "outputs": [
        {
          "output_type": "display_data",
          "data": {
            "image/png": "[encoded data removed]",
            "text/plain": [
              "<Figure size 576x576 with 3 Axes>"
            ]
          },
          "metadata": {
            "tags": []
          }
        }
      ]
    },
    {
      "cell_type": "markdown",
      "metadata": {
        "id": "cm5oOvjDFLHw"
      },
      "source": [
        "We can see that there is some high sale values as the size increases, which corresponds to the moderate correlation between the Size and Weekly_Sales."
      ]
    },
    {
      "cell_type": "code",
      "metadata": {
        "id": "UhH4GNRRFLHw",
        "outputId": "9abb8efc-62eb-4656-cffa-aa807ceea0ca",
        "colab": {
          "base_uri": "https://localhost:8080/",
          "height": 54
        }
      },
      "source": [
        "# Size relation with Store\n",
        "sns.jointplot(x='Size', y='Store', data=train, height=8)\n",
        "plt.show()"
      ],
      "execution_count": null,
      "outputs": [
        {
          "output_type": "display_data",
          "data": {
            "image/png": "[encoded data removed]",
            "text/plain": [
              "<Figure size 576x576 with 3 Axes>"
            ]
          },
          "metadata": {
            "tags": []
          }
        }
      ]
    },
    {
      "cell_type": "markdown",
      "metadata": {
        "id": "1TJ0n9qTFLHz"
      },
      "source": [
        "We can't recognize any pattern between the Size and Stores, which explains the poor correlation of ~0.18."
      ]
    },
    {
      "cell_type": "markdown",
      "metadata": {
        "id": "qN4e7hoXFLHz"
      },
      "source": [
        "**Conclusion:**\n",
        "* The Size may provide information on the target.  \n",
        "* The Size is not correlated with any other attributes, except the Type."
      ]
    },
    {
      "cell_type": "markdown",
      "metadata": {
        "id": "atLCRGdYFLHz"
      },
      "source": [
        "# Store Correlation"
      ]
    },
    {
      "cell_type": "code",
      "metadata": {
        "id": "iFcHMOYEFLH0",
        "outputId": "1958451b-99ae-4261-988b-c380465cce02",
        "colab": {
          "base_uri": "https://localhost:8080/",
          "height": 217
        }
      },
      "source": [
        "# Store Correlations:\n",
        "cor_Store = abs(train.corr()['Store']).sort_values(ascending=False)\n",
        "print(cor_Store, '\\n')"
      ],
      "execution_count": null,
      "outputs": [
        {
          "output_type": "stream",
          "text": [
            "Store           1.000000\n",
            "Type            0.226410\n",
            "Size            0.182881\n",
            "Weekly_Sales    0.085195\n",
            "Dept            0.024004\n",
            "year            0.002997\n",
            "week            0.001031\n",
            "IsHoliday       0.000548\n",
            "Name: Store, dtype: float64 \n",
            "\n"
          ],
          "name": "stdout"
        }
      ]
    },
    {
      "cell_type": "markdown",
      "metadata": {
        "id": "3YHNN1CdFLH2"
      },
      "source": [
        "There is only small correlations between Store and Type, Size."
      ]
    },
    {
      "cell_type": "code",
      "metadata": {
        "id": "T9rzXl5JFLH2",
        "outputId": "0ad15624-39d9-438e-f1d5-a9967649cfe0",
        "colab": {
          "base_uri": "https://localhost:8080/",
          "height": 54
        }
      },
      "source": [
        "fig, ax = plt.subplots(figsize=(18, 12))\n",
        "fig = sns.boxplot(x='Store', y='Weekly_Sales', data=train, showfliers=False, showmeans=True, meanline=True, meanprops = dict(linestyle='--', linewidth=2.5, color='red'))\n",
        "fig.text(-8, 0, 'mean : ---', color='red', weight='roman',size=14)\n",
        "plt.show()"
      ],
      "execution_count": null,
      "outputs": [
        {
          "output_type": "display_data",
          "data": {
            "image/png": "[encoded data removed]",
            "text/plain": [
              "<Figure size 1296x864 with 1 Axes>"
            ]
          },
          "metadata": {
            "tags": []
          }
        }
      ]
    },
    {
      "cell_type": "markdown",
      "metadata": {
        "id": "C-Ro4dzMFLH4"
      },
      "source": [
        "Sales are different for each store, so they may depend on the store."
      ]
    },
    {
      "cell_type": "markdown",
      "metadata": {
        "id": "IE6LV0-dFLH4"
      },
      "source": [
        "**Conclusion:**\n",
        "* The Store may provide some information on Sales."
      ]
    },
    {
      "cell_type": "markdown",
      "metadata": {
        "id": "1qM529eeFLH5"
      },
      "source": [
        "# Dept Correlation"
      ]
    },
    {
      "cell_type": "code",
      "metadata": {
        "id": "n_8vIshwFLH5",
        "outputId": "5c2fe07c-aab5-4ca5-afad-4532d5a2595b",
        "colab": {
          "base_uri": "https://localhost:8080/",
          "height": 217
        }
      },
      "source": [
        "# Dept Correlations:\n",
        "cor_Dept = abs(train.corr()['Dept']).sort_values(ascending=False)\n",
        "print(cor_Dept, '\\n')"
      ],
      "execution_count": null,
      "outputs": [
        {
          "output_type": "stream",
          "text": [
            "Dept            1.000000\n",
            "Weekly_Sales    0.148032\n",
            "Store           0.024004\n",
            "year            0.003738\n",
            "Type            0.003708\n",
            "Size            0.002966\n",
            "IsHoliday       0.000916\n",
            "week            0.000882\n",
            "Name: Dept, dtype: float64 \n",
            "\n"
          ],
          "name": "stdout"
        }
      ]
    },
    {
      "cell_type": "markdown",
      "metadata": {
        "id": "qmAeF0loFLH7"
      },
      "source": [
        "The Dept column is moderately correlated with Weekly_Sales."
      ]
    },
    {
      "cell_type": "code",
      "metadata": {
        "id": "g-ZpnpweFLH7",
        "outputId": "33ed5392-215e-4a86-9e58-d580d100e1df",
        "colab": {
          "base_uri": "https://localhost:8080/",
          "height": 54
        }
      },
      "source": [
        "# Dept relation with Weekly_Sales\n",
        "fig, ax = plt.subplots(figsize=(18, 12))\n",
        "fig = sns.boxplot(x='Dept', y='Weekly_Sales', data=train, showfliers=False, showmeans=True, meanline=True, meanprops = dict(linestyle='--', linewidth=2.5, color='red'))\n",
        "fig.text(-8, 0, 'mean : ---', color='red', weight='roman',size=14)\n",
        "plt.show()"
      ],
      "execution_count": null,
      "outputs": [
        {
          "output_type": "display_data",
          "data": {
            "image/png": "[encoded data removed]",
            "text/plain": [
              "<Figure size 1296x864 with 1 Axes>"
            ]
          },
          "metadata": {
            "tags": []
          }
        }
      ]
    },
    {
      "cell_type": "markdown",
      "metadata": {
        "id": "7sWdohozFLH-"
      },
      "source": [
        "The Departements show distinct range of Sales, which may tell something about them."
      ]
    },
    {
      "cell_type": "markdown",
      "metadata": {
        "id": "DNJIRXA4FLH-"
      },
      "source": [
        "**Conclusion:**  \n",
        "* Each Departement may contain some information on the target. "
      ]
    },
    {
      "cell_type": "markdown",
      "metadata": {
        "id": "ImrmISS1FLH-"
      },
      "source": [
        "# Week Correlation"
      ]
    },
    {
      "cell_type": "code",
      "metadata": {
        "id": "-HOXGBf8FLH_",
        "outputId": "e780c0bc-9b77-4f86-d14d-bff20fbbfc90",
        "colab": {
          "base_uri": "https://localhost:8080/",
          "height": 217
        }
      },
      "source": [
        "# Week Correlations:\n",
        "cor_week = abs(train.corr()['week']).sort_values(ascending=False)\n",
        "print(cor_week, '\\n')"
      ],
      "execution_count": null,
      "outputs": [
        {
          "output_type": "stream",
          "text": [
            "week            1.000000\n",
            "year            0.181797\n",
            "IsHoliday       0.128184\n",
            "Weekly_Sales    0.027673\n",
            "Size            0.001292\n",
            "Store           0.001031\n",
            "Dept            0.000882\n",
            "Type            0.000003\n",
            "Name: week, dtype: float64 \n",
            "\n"
          ],
          "name": "stdout"
        }
      ]
    },
    {
      "cell_type": "markdown",
      "metadata": {
        "id": "k-1EBW5oFLIA"
      },
      "source": [
        "There is no correlation between the week and Sales."
      ]
    },
    {
      "cell_type": "code",
      "metadata": {
        "id": "Sd2GxoohFLIA",
        "outputId": "1e0cd308-2af1-4cd6-c2ae-88f60530b6de",
        "colab": {
          "base_uri": "https://localhost:8080/",
          "height": 54
        }
      },
      "source": [
        "# Distribution of sales over weeks:\n",
        "fig, ax = plt.subplots(figsize=(18, 12))\n",
        "palette = sns.color_palette(\"mako_r\", 3)\n",
        "fig = sns.lineplot(x='week', y='Weekly_Sales', data=train, hue='year', err_style=None, palette=palette)\n",
        "plt.xticks(np.arange(1, 53, step=1))\n",
        "plt.show()"
      ],
      "execution_count": null,
      "outputs": [
        {
          "output_type": "display_data",
          "data": {
            "image/png": "[encoded data removed]",
            "text/plain": [
              "<Figure size 1296x864 with 1 Axes>"
            ]
          },
          "metadata": {
            "tags": []
          }
        }
      ]
    },
    {
      "cell_type": "markdown",
      "metadata": {
        "id": "1LJsgqw0FLIC"
      },
      "source": [
        "The distribution of Sales over weeks is not impacted by the year, so it safe to assume the year is irrelevant to this situation.  \n",
        "\n",
        "The Holidays by week:    \n",
        "Week 6  : Super Bowl  \n",
        "Week 36 : Labor Day  \n",
        "Week 47 : Thanksgiving  \n",
        "Week 52 : Christmas   \n",
        "\n",
        "\n",
        "\n",
        "This explains peaks in Sales at these weeks. However there is a subtlety concerning the Christmas, the peak in Sales happens at the Week 51, one week before the Christmas week, this can be explained by the fact that people prepare for the Christmas days before, so shifting the Holiday sale for Christmas to Week 51 will be a good choice."
      ]
    },
    {
      "cell_type": "markdown",
      "metadata": {
        "id": "_FNTby4NFLIF"
      },
      "source": [
        "**Conclusion:**\n",
        "* Week doesn't tell much about Sales, except for weeks marked as HoliDays."
      ]
    },
    {
      "cell_type": "markdown",
      "metadata": {
        "id": "NWnEJPHlFLIF"
      },
      "source": [
        "# HoliDays Correlation"
      ]
    },
    {
      "cell_type": "markdown",
      "metadata": {
        "id": "8-kG2T33FLIG"
      },
      "source": [
        "Let's visualize the impact of Holidays on Sales:"
      ]
    },
    {
      "cell_type": "code",
      "metadata": {
        "id": "_TbQ7EpEFLIG",
        "outputId": "c5c15574-8642-4cb4-83ce-4e96fcd9e7af",
        "colab": {
          "base_uri": "https://localhost:8080/",
          "height": 54
        }
      },
      "source": [
        "fig, ax = plt.subplots(figsize=(12, 8))\n",
        "fig = sns.stripplot(x='IsHoliday', y='Weekly_Sales', data=train)\n",
        "plt.show()"
      ],
      "execution_count": null,
      "outputs": [
        {
          "output_type": "display_data",
          "data": {
            "image/png": "[encoded data removed]",
            "text/plain": [
              "<Figure size 864x576 with 1 Axes>"
            ]
          },
          "metadata": {
            "tags": []
          }
        }
      ]
    },
    {
      "cell_type": "markdown",
      "metadata": {
        "id": "BBHpU2rTFLIK"
      },
      "source": [
        "As expected, Holiday Sales have some high values."
      ]
    },
    {
      "cell_type": "code",
      "metadata": {
        "id": "tVgLM7t6FLIK",
        "outputId": "84d9648b-27ce-471b-cec0-bfa6956a8c8e",
        "colab": {
          "base_uri": "https://localhost:8080/",
          "height": 71
        }
      },
      "source": [
        "# Weekly Sales per Dept with the Holiday Flag:\n",
        "fig, ax = plt.subplots(figsize=(18, 12))\n",
        "fig = sns.boxplot(x='Store', y='Weekly_Sales', data=train, hue='IsHoliday', showfliers=False)\n",
        "# Weekly Sales per Store with the Holiday Flag:\n",
        "fig, ax = plt.subplots(figsize=(18, 12))\n",
        "fig = sns.boxplot(x='Dept', y='Weekly_Sales', data=train, hue='IsHoliday', showfliers=False)"
      ],
      "execution_count": null,
      "outputs": [
        {
          "output_type": "display_data",
          "data": {
            "image/png": "[encoded data removed]",
            "text/plain": [
              "<Figure size 1296x864 with 1 Axes>"
            ]
          },
          "metadata": {
            "tags": []
          }
        },
        {
          "output_type": "display_data",
          "data": {
            "image/png": "[encoded data removed]",
            "text/plain": [
              "<Figure size 1296x864 with 1 Axes>"
            ]
          },
          "metadata": {
            "tags": []
          }
        }
      ]
    },
    {
      "cell_type": "markdown",
      "metadata": {
        "id": "HsULGAuhFLIN"
      },
      "source": [
        "In general, Sales in Stores and Department increase slightly during Holidays, except for some small number of Departments, for instance, Weekly Sales median of Dept 38 decreases due to low sales during Holidays, which i attritube to maybe the nature of products in these Departments.  "
      ]
    },
    {
      "cell_type": "code",
      "metadata": {
        "id": "srjmNoZ5FLIN",
        "outputId": "214074ab-c7a4-4cc3-de3d-c235fefef432",
        "colab": {
          "base_uri": "https://localhost:8080/",
          "height": 54
        }
      },
      "source": [
        "# Weekly Sales per store Type with the Holiday Flag:\n",
        "xyBox('Type','Weekly_Sales', hue='IsHoliday', showfliers=False)"
      ],
      "execution_count": null,
      "outputs": [
        {
          "output_type": "display_data",
          "data": {
            "image/png": "[encoded data removed]",
            "text/plain": [
              "<Figure size 648x432 with 1 Axes>"
            ]
          },
          "metadata": {
            "tags": []
          }
        }
      ]
    },
    {
      "cell_type": "markdown",
      "metadata": {
        "id": "DTT6VGWEFLIP"
      },
      "source": [
        "**Conclusion:**\n",
        "* Sales increase at Holidays."
      ]
    },
    {
      "cell_type": "markdown",
      "metadata": {
        "id": "PnNxeeBTFLIQ"
      },
      "source": [
        "# Feature Selection"
      ]
    },
    {
      "cell_type": "markdown",
      "metadata": {
        "id": "1QS4I58FT2AH"
      },
      "source": [
        "After analyzing and knowing the data, it's time to keep only important features, because irrelevant or redundant features impact negatively the speed, accuracy of algorithms and could potentially cause overfitting problems.\n",
        "\n",
        "Moreover, reducing features enable the algorithm to train faster and make the model easier to interpret."
      ]
    },
    {
      "cell_type": "code",
      "metadata": {
        "id": "eYHNhyGSFLIQ",
        "outputId": "8d15702c-ec40-4aa2-b903-a5fff62f84b7",
        "colab": {
          "base_uri": "https://localhost:8080/",
          "height": 55
        }
      },
      "source": [
        "# Attributes:\n",
        "train.columns"
      ],
      "execution_count": null,
      "outputs": [
        {
          "output_type": "execute_result",
          "data": {
            "text/plain": [
              "Index(['Store', 'Dept', 'Weekly_Sales', 'IsHoliday', 'Type', 'Size', 'week', 'year'], dtype='object')"
            ]
          },
          "metadata": {
            "tags": []
          },
          "execution_count": 135
        }
      ]
    },
    {
      "cell_type": "markdown",
      "metadata": {
        "id": "inKi3gi7FLIS"
      },
      "source": [
        "Let's check features importance using the random forest algorithm."
      ]
    },
    {
      "cell_type": "code",
      "metadata": {
        "id": "Fhwu6pwdFLIS",
        "outputId": "ca4d49ed-4e49-4015-e723-3232876e450b",
        "colab": {
          "base_uri": "https://localhost:8080/",
          "height": 266
        }
      },
      "source": [
        "# Separating the target from data:\n",
        "X = train.drop('Weekly_Sales',axis=1)\n",
        "y_train = train['Weekly_Sales']\n",
        "\n",
        "# importing the random forest algorithm\n",
        "from sklearn.ensemble import RandomForestRegressor\n",
        "# fitting the model\n",
        "rf = RandomForestRegressor()\n",
        "rf.fit(X,y_train)\n",
        "# Feature importance:\n",
        "pd.DataFrame({'Features':X.columns,'Relative Importance':rf.feature_importances_}).sort_values(by='Relative Importance', ascending=False)"
      ],
      "execution_count": null,
      "outputs": [
        {
          "output_type": "execute_result",
          "data": {
            "text/html": [
              "<div>\n",
              "<style scoped>\n",
              "    .dataframe tbody tr th:only-of-type {\n",
              "        vertical-align: middle;\n",
              "    }\n",
              "\n",
              "    .dataframe tbody tr th {\n",
              "        vertical-align: top;\n",
              "    }\n",
              "\n",
              "    .dataframe thead th {\n",
              "        text-align: right;\n",
              "    }\n",
              "</style>\n",
              "<table border=\"1\" class=\"dataframe\">\n",
              "  <thead>\n",
              "    <tr style=\"text-align: right;\">\n",
              "      <th></th>\n",
              "      <th>Features</th>\n",
              "      <th>Relative Importance</th>\n",
              "    </tr>\n",
              "  </thead>\n",
              "  <tbody>\n",
              "    <tr>\n",
              "      <th>1</th>\n",
              "      <td>Dept</td>\n",
              "      <td>0.630657</td>\n",
              "    </tr>\n",
              "    <tr>\n",
              "      <th>4</th>\n",
              "      <td>Size</td>\n",
              "      <td>0.207639</td>\n",
              "    </tr>\n",
              "    <tr>\n",
              "      <th>0</th>\n",
              "      <td>Store</td>\n",
              "      <td>0.073319</td>\n",
              "    </tr>\n",
              "    <tr>\n",
              "      <th>5</th>\n",
              "      <td>week</td>\n",
              "      <td>0.064365</td>\n",
              "    </tr>\n",
              "    <tr>\n",
              "      <th>3</th>\n",
              "      <td>Type</td>\n",
              "      <td>0.014645</td>\n",
              "    </tr>\n",
              "    <tr>\n",
              "      <th>6</th>\n",
              "      <td>year</td>\n",
              "      <td>0.007082</td>\n",
              "    </tr>\n",
              "    <tr>\n",
              "      <th>2</th>\n",
              "      <td>IsHoliday</td>\n",
              "      <td>0.002293</td>\n",
              "    </tr>\n",
              "  </tbody>\n",
              "</table>\n",
              "</div>"
            ],
            "text/plain": [
              "    Features  Relative Importance\n",
              "1       Dept             0.630657\n",
              "4       Size             0.207639\n",
              "0      Store             0.073319\n",
              "5       week             0.064365\n",
              "3       Type             0.014645\n",
              "6       year             0.007082\n",
              "2  IsHoliday             0.002293"
            ]
          },
          "metadata": {
            "tags": []
          },
          "execution_count": 136
        }
      ]
    },
    {
      "cell_type": "markdown",
      "metadata": {
        "id": "AsGR44XmFLIU"
      },
      "source": [
        "As we can see, the most important feature is Dept, followed by Size.\n",
        "\n",
        "And as seen before, Type and Size are highly correlated and contain the same information, so in this case I am deciding to keep 'Size'.\n",
        "\n",
        "And for safe measure, 'year' is irrelevant and don't contain any information on the target -> I will drop it from the data."
      ]
    },
    {
      "cell_type": "code",
      "metadata": {
        "id": "LAYOy_vpFLIU"
      },
      "source": [
        "X_train = X.drop(['Type', 'year'],axis=1)"
      ],
      "execution_count": null,
      "outputs": []
    },
    {
      "cell_type": "markdown",
      "metadata": {
        "id": "EfpoVmwiFLIW"
      },
      "source": [
        "# Evaluate Algorithms"
      ]
    },
    {
      "cell_type": "markdown",
      "metadata": {
        "id": "YBXtv6CQFLIX"
      },
      "source": [
        "After analyzing, cleaning and preparing the data, the next step is to select the best algorithm with optimal parameters to obtain the best results.\n",
        "\n",
        "This step requires manually selecting the type of data normalization, then manually selecting algorithms and tune all hyperparameters, which can be a complex task to do. \n",
        "\n",
        "Instead, I will use AutoML, which is a series of concepts and techniques used to automate these processes and help reducing bias and errors.\n",
        "\n",
        "AutoML can be done using the Lale library, a powerful tool which serves for hyperparameter tuning and algorithm selection. "
      ]
    },
    {
      "cell_type": "markdown",
      "metadata": {
        "id": "tZ5d6StxFLIY"
      },
      "source": [
        "Many algorithms assume normal distribution of the data, especially when features have different ranges like ours, so it is necessary to implement this step in our pipeline.  \n",
        "\n",
        "For data normalization, Lale will have the following choices :  \n",
        "\n",
        "* MinMaxscaler: scaling data values in the range [0,1]\n",
        "* StandardScaler: data distribution will have a mean = 0 and std =1\n",
        "* PCA: for linear dimensionality reduction\n",
        "* NoOp: keep the data unchanged  \n",
        "\n",
        "Algorithms used for spot-checking :  \n",
        "\n",
        "* LinearRegression\n",
        "* RandomForestRegressor\n",
        "* GradientBoostingRegressor\n",
        "* ExtraTreesRegressor\n",
        "* KNeighborsRegressor\n",
        "* SVR\n"
      ]
    },
    {
      "cell_type": "code",
      "metadata": {
        "id": "AyK6ljOAFLIY"
      },
      "source": [
        "import lale\n",
        "from sklearn.linear_model import LinearRegression\n",
        "from sklearn.ensemble import RandomForestRegressor\n",
        "from sklearn.ensemble import GradientBoostingRegressor\n",
        "from sklearn.ensemble import ExtraTreesRegressor\n",
        "from sklearn.neighbors import KNeighborsRegressor\n",
        "from sklearn.svm import SVR\n",
        "from sklearn.decomposition import PCA\n",
        "from sklearn.preprocessing import StandardScaler\n",
        "from sklearn.preprocessing import MinMaxScaler\n",
        "from sklearn.metrics import mean_squared_error, mean_absolute_error, make_scorer\n",
        "from lale.lib.lale import Hyperopt, NoOp, GridSearchCV\n",
        "from lale.pretty_print import ipython_display\n",
        "import lale.schemas as schemas\n",
        "import lale.helpers\n",
        "lale.wrap_imported_operators()"
      ],
      "execution_count": null,
      "outputs": []
    },
    {
      "cell_type": "markdown",
      "metadata": {
        "id": "LzLjGhfWFLIZ"
      },
      "source": [
        "For hyperparameter tuning, Lale give us the choice to use its search space or schemas as is, OR we can customize the schemas to fit our purposes (which helps reduce the search space to speed up the overall search time)."
      ]
    },
    {
      "cell_type": "code",
      "metadata": {
        "id": "2GW_rduYFLIa",
        "outputId": "3c8c3739-a166-4d25-cb4e-c1be364b576e",
        "colab": {
          "base_uri": "https://localhost:8080/",
          "height": 1000
        }
      },
      "source": [
        "# RandomForestRegressor hyperparameter to costumize:\n",
        "print( 'RandomForestRegressor:\\n')\n",
        "ipython_display(RandomForestRegressor.hyperparam_schema('n_estimators'))\n",
        "ipython_display(RandomForestRegressor.hyperparam_schema('min_samples_leaf'))\n",
        "# ExtraTreesRegressor hyperparameter to costumize:\n",
        "print( 'ExtraTreesRegressor:\\n')\n",
        "ipython_display(ExtraTreesRegressor.hyperparam_schema('n_estimators'))\n",
        "ipython_display(ExtraTreesRegressor.hyperparam_schema('min_samples_leaf'))\n",
        "# GradientBoostingRegressor hyperparameter to costumize:\n",
        "print( 'GradientBoostingRegressor:\\n')\n",
        "ipython_display(GradientBoostingRegressor.hyperparam_schema('n_estimators'))\n",
        "ipython_display(GradientBoostingRegressor.hyperparam_schema('min_samples_leaf'))"
      ],
      "execution_count": null,
      "outputs": [
        {
          "output_type": "stream",
          "text": [
            "RandomForestRegressor:\n",
            "\n"
          ],
          "name": "stdout"
        },
        {
          "output_type": "display_data",
          "data": {
            "text/markdown": "```python\n{\n    \"default\": 100,\n    \"description\": \"The number of trees in the forest.\",\n    \"type\": \"integer\",\n    \"minimumForOptimizer\": 10,\n    \"maximumForOptimizer\": 100,\n}\n```",
            "text/plain": [
              "<IPython.core.display.Markdown object>"
            ]
          },
          "metadata": {
            "tags": []
          }
        },
        {
          "output_type": "display_data",
          "data": {
            "text/markdown": "```python\n{\n    \"anyOf\": [\n        {\n            \"type\": \"integer\",\n            \"minimum\": 1,\n            \"forOptimizer\": false,\n            \"description\": \"Consider min_samples_leaf as the minimum number.\",\n        },\n        {\n            \"type\": \"number\",\n            \"minimum\": 0.0,\n            \"exclusiveMinimum\": true,\n            \"minimumForOptimizer\": 0.01,\n            \"maximum\": 0.5,\n            \"default\": 0.05,\n            \"description\": \"min_samples_leaf is a fraction and ceil(min_samples_leaf * n_samples) are the minimum number of samples for each node.\",\n        },\n    ],\n    \"default\": 1,\n    \"description\": \"The minimum number of samples required to be at a leaf node.\",\n}\n```",
            "text/plain": [
              "<IPython.core.display.Markdown object>"
            ]
          },
          "metadata": {
            "tags": []
          }
        },
        {
          "output_type": "stream",
          "text": [
            "ExtraTreesRegressor:\n",
            "\n"
          ],
          "name": "stdout"
        },
        {
          "output_type": "display_data",
          "data": {
            "text/markdown": "```python\n{\n    \"default\": 100,\n    \"description\": \"The number of trees in the forest.\",\n    \"type\": \"integer\",\n    \"minimumForOptimizer\": 10,\n    \"maximumForOptimizer\": 100,\n}\n```",
            "text/plain": [
              "<IPython.core.display.Markdown object>"
            ]
          },
          "metadata": {
            "tags": []
          }
        },
        {
          "output_type": "display_data",
          "data": {
            "text/markdown": "```python\n{\n    \"anyOf\": [\n        {\n            \"type\": \"integer\",\n            \"minimumForOptimizer\": 1,\n            \"maximumForOptimizer\": 20,\n            \"distribution\": \"uniform\",\n        },\n        {\n            \"type\": \"number\",\n            \"minimumForOptimizer\": 0.01,\n            \"maximumForOptimizer\": 0.5,\n            \"default\": 0.05,\n        },\n    ],\n    \"default\": 1,\n    \"description\": \"The minimum number of samples required to be at a leaf node.\",\n}\n```",
            "text/plain": [
              "<IPython.core.display.Markdown object>"
            ]
          },
          "metadata": {
            "tags": []
          }
        },
        {
          "output_type": "stream",
          "text": [
            "GradientBoostingRegressor:\n",
            "\n"
          ],
          "name": "stdout"
        },
        {
          "output_type": "display_data",
          "data": {
            "text/markdown": "```python\n{\n    \"type\": \"integer\",\n    \"minimumForOptimizer\": 10,\n    \"maximumForOptimizer\": 100,\n    \"distribution\": \"uniform\",\n    \"default\": 100,\n    \"description\": \"The number of boosting stages to perform. Gradient boosting\",\n}\n```",
            "text/plain": [
              "<IPython.core.display.Markdown object>"
            ]
          },
          "metadata": {
            "tags": []
          }
        },
        {
          "output_type": "display_data",
          "data": {
            "text/markdown": "```python\n{\n    \"anyOf\": [\n        {\n            \"type\": \"integer\",\n            \"minimumForOptimizer\": 1,\n            \"maximumForOptimizer\": 20,\n            \"distribution\": \"uniform\",\n        },\n        {\n            \"type\": \"number\",\n            \"minimumForOptimizer\": 0.01,\n            \"maximumForOptimizer\": 0.5,\n            \"default\": 0.05,\n        },\n    ],\n    \"default\": 1,\n    \"description\": \"The minimum number of samples required to be at a leaf node.\",\n}\n```",
            "text/plain": [
              "<IPython.core.display.Markdown object>"
            ]
          },
          "metadata": {
            "tags": []
          }
        }
      ]
    },
    {
      "cell_type": "markdown",
      "metadata": {
        "id": "GfsgMyLlFLIc"
      },
      "source": [
        "As you can see, the search space for the number of trees in the forest is in the range of [10, 100] and for min_samples_leaf: [1, 20].  \n",
        "\n",
        "For all algorithms, I will reduce them to [10, 20] and [1, 5] respectively. "
      ]
    },
    {
      "cell_type": "code",
      "metadata": {
        "id": "XW9JHME7FLIc"
      },
      "source": [
        "RandomForestRegressor = RandomForestRegressor.customize_schema(n_estimators=schemas.Int(min=10, max=20),\n",
        "                                                               min_samples_leaf=schemas.Int(min=1, max=5))\n",
        "\n",
        "ExtraTreesRegressor = ExtraTreesRegressor.customize_schema(n_estimators=schemas.Int(min=10, max=20),\n",
        "                                                           min_samples_leaf=schemas.Int(min=1, max=5))\n",
        "\n",
        "GradientBoostingRegressor = GradientBoostingRegressor.customize_schema(n_estimators=schemas.Int(min=10, max=20),\n",
        "                                                                       min_samples_leaf=schemas.Int(min=1, max=5))                                                           "
      ],
      "execution_count": null,
      "outputs": []
    },
    {
      "cell_type": "markdown",
      "metadata": {
        "id": "l-3JjrgHFLIe"
      },
      "source": [
        "Now I will create the pipeline and visualize it with Lale."
      ]
    },
    {
      "cell_type": "code",
      "metadata": {
        "id": "DzNxtCBpFLIe",
        "outputId": "b2742b30-2a04-4aa0-c891-66b5f6f606e7",
        "colab": {
          "base_uri": "https://localhost:8080/",
          "height": 556
        }
      },
      "source": [
        "pipeline = (StandardScaler | MinMaxScaler | PCA | NoOp)  >>  (LinearRegression | KNeighborsRegressor |\n",
        "               RandomForestRegressor | GradientBoostingRegressor | ExtraTreesRegressor  | SVR )\n",
        "pipeline.visualize()"
      ],
      "execution_count": null,
      "outputs": [
        {
          "output_type": "display_data",
          "data": {
            "image/svg+xml": "<?xml version=\"1.0\" encoding=\"UTF-8\" standalone=\"no\"?>\n<!DOCTYPE svg PUBLIC \"-//W3C//DTD SVG 1.1//EN\"\n \"http://www.w3.org/Graphics/SVG/1.1/DTD/svg11.dtd\">\n<!-- Generated by graphviz version 2.40.1 (20161225.0304)\n -->\n<!-- Title: cluster:(root) Pages: 1 -->\n<svg width=\"239pt\" height=\"401pt\"\n viewBox=\"0.00 0.00 238.63 401.00\" xmlns=\"http://www.w3.org/2000/svg\" xmlns:xlink=\"http://www.w3.org/1999/xlink\">\n<g id=\"graph0\" class=\"graph\" transform=\"scale(1 1) rotate(0) translate(4 397)\">\n<title>cluster:(root)</title>\n<g id=\"a_graph0\"><a xlink:title=\"(root) = ...\">\n<polygon fill=\"#ffffff\" stroke=\"transparent\" points=\"-4,4 -4,-397 234.6346,-397 234.6346,4 -4,4\"/>\n</a>\n</g>\n<g id=\"clust1\" class=\"cluster\">\n<title>cluster:choice_0</title>\n<g id=\"a_clust1\"><a xlink:title=\"choice_0 = standard_scaler | min_max_scaler | pca | no_op\">\n<polygon fill=\"#7ec0ee\" stroke=\"#000000\" points=\"8,-153 8,-385 100.3675,-385 100.3675,-153 8,-153\"/>\n<text text-anchor=\"middle\" x=\"54.1838\" y=\"-369.8\" font-family=\"Times,serif\" font-size=\"14.00\" fill=\"#000000\">Choice</text>\n</a>\n</g>\n</g>\n<g id=\"clust2\" class=\"cluster\">\n<title>cluster:choice_1</title>\n<g id=\"a_clust2\"><a xlink:title=\"choice_1 = linear_regression | k_neighbors_regressor | random_forest_regressor | gradient_boosting_regressor | extra_trees_regressor | svr\">\n<polygon fill=\"#7ec0ee\" stroke=\"#000000\" points=\"120.3675,-8 120.3675,-385 222.6346,-385 222.6346,-8 120.3675,-8\"/>\n<text text-anchor=\"middle\" x=\"171.501\" y=\"-369.8\" font-family=\"Times,serif\" font-size=\"14.00\" fill=\"#000000\">Choice</text>\n</a>\n</g>\n</g>\n<!-- standard_scaler -->\n<g id=\"node1\" class=\"node\">\n<title>standard_scaler</title>\n<g id=\"a_node1\"><a xlink:href=\"https://lale.readthedocs.io/en/latest/modules/lale.lib.sklearn.standard_scaler.html\" xlink:title=\"standard_scaler = StandardScaler\">\n<ellipse fill=\"#7ec0ee\" stroke=\"#000000\" cx=\"54.1838\" cy=\"-334\" rx=\"38.3684\" ry=\"19.6\"/>\n<text text-anchor=\"middle\" x=\"54.1838\" y=\"-337.2\" font-family=\"Times,serif\" font-size=\"11.00\" fill=\"#000000\">Standard&#45;</text>\n<text text-anchor=\"middle\" x=\"54.1838\" y=\"-325.2\" font-family=\"Times,serif\" font-size=\"11.00\" fill=\"#000000\">Scaler</text>\n</a>\n</g>\n</g>\n<!-- linear_regression -->\n<g id=\"node5\" class=\"node\">\n<title>linear_regression</title>\n<g id=\"a_node5\"><a xlink:href=\"https://lale.readthedocs.io/en/latest/modules/lale.lib.sklearn.linear_regression.html\" xlink:title=\"linear_regression = LinearRegression\">\n<ellipse fill=\"#7ec0ee\" stroke=\"#000000\" cx=\"171.501\" cy=\"-334\" rx=\"42.3529\" ry=\"19.6\"/>\n<text text-anchor=\"middle\" x=\"171.501\" y=\"-337.2\" font-family=\"Times,serif\" font-size=\"11.00\" fill=\"#000000\">Linear&#45;</text>\n<text text-anchor=\"middle\" x=\"171.501\" y=\"-325.2\" font-family=\"Times,serif\" font-size=\"11.00\" fill=\"#000000\">Regression</text>\n</a>\n</g>\n</g>\n<!-- standard_scaler&#45;&gt;linear_regression -->\n<g id=\"edge1\" class=\"edge\">\n<title>standard_scaler&#45;&gt;linear_regression</title>\n<path fill=\"none\" stroke=\"#000000\" d=\"M100.3629,-334C106.3947,-334 112.6111,-334 118.7408,-334\"/>\n<polygon fill=\"#000000\" stroke=\"#000000\" points=\"110.3677,-337.5006 120.3675,-334 110.3673,-330.5006 110.3677,-337.5006\"/>\n</g>\n<!-- min_max_scaler -->\n<g id=\"node2\" class=\"node\">\n<title>min_max_scaler</title>\n<g id=\"a_node2\"><a xlink:href=\"https://lale.readthedocs.io/en/latest/modules/lale.lib.sklearn.min_max_scaler.html\" xlink:title=\"min_max_scaler = MinMaxScaler\">\n<ellipse fill=\"#7ec0ee\" stroke=\"#000000\" cx=\"54.1838\" cy=\"-279\" rx=\"27\" ry=\"28.0702\"/>\n<text text-anchor=\"middle\" x=\"54.1838\" y=\"-288.2\" font-family=\"Times,serif\" font-size=\"11.00\" fill=\"#000000\">Min&#45;</text>\n<text text-anchor=\"middle\" x=\"54.1838\" y=\"-276.2\" font-family=\"Times,serif\" font-size=\"11.00\" fill=\"#000000\">Max&#45;</text>\n<text text-anchor=\"middle\" x=\"54.1838\" y=\"-264.2\" font-family=\"Times,serif\" font-size=\"11.00\" fill=\"#000000\">Scaler</text>\n</a>\n</g>\n</g>\n<!-- pca -->\n<g id=\"node3\" class=\"node\">\n<title>pca</title>\n<g id=\"a_node3\"><a xlink:href=\"https://lale.readthedocs.io/en/latest/modules/lale.lib.sklearn.pca.html\" xlink:title=\"pca = PCA\">\n<ellipse fill=\"#7ec0ee\" stroke=\"#000000\" cx=\"54.1838\" cy=\"-226\" rx=\"27\" ry=\"18\"/>\n<text text-anchor=\"middle\" x=\"54.1838\" y=\"-223.2\" font-family=\"Times,serif\" font-size=\"11.00\" fill=\"#000000\">PCA</text>\n</a>\n</g>\n</g>\n<!-- no_op -->\n<g id=\"node4\" class=\"node\">\n<title>no_op</title>\n<g id=\"a_node4\"><a xlink:href=\"https://lale.readthedocs.io/en/latest/modules/lale.lib.lale.no_op.html\" xlink:title=\"no_op = NoOp\">\n<ellipse fill=\"#ffffff\" stroke=\"#000000\" cx=\"54.1838\" cy=\"-181\" rx=\"27\" ry=\"19.6\"/>\n<text text-anchor=\"middle\" x=\"54.1838\" y=\"-184.2\" font-family=\"Times,serif\" font-size=\"11.00\" fill=\"#000000\">No&#45;</text>\n<text text-anchor=\"middle\" x=\"54.1838\" y=\"-172.2\" font-family=\"Times,serif\" font-size=\"11.00\" fill=\"#000000\">Op</text>\n</a>\n</g>\n</g>\n<!-- k_neighbors_regressor -->\n<g id=\"node6\" class=\"node\">\n<title>k_neighbors_regressor</title>\n<g id=\"a_node6\"><a xlink:href=\"https://lale.readthedocs.io/en/latest/modules/lale.lib.sklearn.k_neighbors_regressor.html\" xlink:title=\"k_neighbors_regressor = KNeighborsRegressor\">\n<ellipse fill=\"#7ec0ee\" stroke=\"#000000\" cx=\"171.501\" cy=\"-279\" rx=\"43.2674\" ry=\"28.0702\"/>\n<text text-anchor=\"middle\" x=\"171.501\" y=\"-288.2\" font-family=\"Times,serif\" font-size=\"11.00\" fill=\"#000000\">K&#45;</text>\n<text text-anchor=\"middle\" x=\"171.501\" y=\"-276.2\" font-family=\"Times,serif\" font-size=\"11.00\" fill=\"#000000\">Neighbors&#45;</text>\n<text text-anchor=\"middle\" x=\"171.501\" y=\"-264.2\" font-family=\"Times,serif\" font-size=\"11.00\" fill=\"#000000\">Regressor</text>\n</a>\n</g>\n</g>\n<!-- random_forest_regressor -->\n<g id=\"node7\" class=\"node\">\n<title>random_forest_regressor</title>\n<g id=\"a_node7\"><a xlink:href=\"https://lale.readthedocs.io/en/latest/modules/lale.lib.sklearn.random_forest_regressor.html\" xlink:title=\"random_forest_regressor = RandomForestRegressor\">\n<ellipse fill=\"#7ec0ee\" stroke=\"#000000\" cx=\"171.501\" cy=\"-215\" rx=\"38.7821\" ry=\"28.0702\"/>\n<text text-anchor=\"middle\" x=\"171.501\" y=\"-224.2\" font-family=\"Times,serif\" font-size=\"11.00\" fill=\"#000000\">Random&#45;</text>\n<text text-anchor=\"middle\" x=\"171.501\" y=\"-212.2\" font-family=\"Times,serif\" font-size=\"11.00\" fill=\"#000000\">Forest&#45;</text>\n<text text-anchor=\"middle\" x=\"171.501\" y=\"-200.2\" font-family=\"Times,serif\" font-size=\"11.00\" fill=\"#000000\">Regressor</text>\n</a>\n</g>\n</g>\n<!-- gradient_boosting_regressor -->\n<g id=\"node8\" class=\"node\">\n<title>gradient_boosting_regressor</title>\n<g id=\"a_node8\"><a xlink:href=\"https://lale.readthedocs.io/en/latest/modules/lale.lib.sklearn.gradient_boosting_regressor.html\" xlink:title=\"gradient_boosting_regressor = GradientBoostingRegressor\">\n<ellipse fill=\"#7ec0ee\" stroke=\"#000000\" cx=\"171.501\" cy=\"-151\" rx=\"38.7821\" ry=\"28.0702\"/>\n<text text-anchor=\"middle\" x=\"171.501\" y=\"-160.2\" font-family=\"Times,serif\" font-size=\"11.00\" fill=\"#000000\">Gradient&#45;</text>\n<text text-anchor=\"middle\" x=\"171.501\" y=\"-148.2\" font-family=\"Times,serif\" font-size=\"11.00\" fill=\"#000000\">Boosting&#45;</text>\n<text text-anchor=\"middle\" x=\"171.501\" y=\"-136.2\" font-family=\"Times,serif\" font-size=\"11.00\" fill=\"#000000\">Regressor</text>\n</a>\n</g>\n</g>\n<!-- extra_trees_regressor -->\n<g id=\"node9\" class=\"node\">\n<title>extra_trees_regressor</title>\n<g id=\"a_node9\"><a xlink:href=\"https://lale.readthedocs.io/en/latest/modules/lale.lib.sklearn.extra_trees_regressor.html\" xlink:title=\"extra_trees_regressor = ExtraTreesRegressor\">\n<ellipse fill=\"#7ec0ee\" stroke=\"#000000\" cx=\"171.501\" cy=\"-87\" rx=\"38.7821\" ry=\"28.0702\"/>\n<text text-anchor=\"middle\" x=\"171.501\" y=\"-96.2\" font-family=\"Times,serif\" font-size=\"11.00\" fill=\"#000000\">Extra&#45;</text>\n<text text-anchor=\"middle\" x=\"171.501\" y=\"-84.2\" font-family=\"Times,serif\" font-size=\"11.00\" fill=\"#000000\">Trees&#45;</text>\n<text text-anchor=\"middle\" x=\"171.501\" y=\"-72.2\" font-family=\"Times,serif\" font-size=\"11.00\" fill=\"#000000\">Regressor</text>\n</a>\n</g>\n</g>\n<!-- svr -->\n<g id=\"node10\" class=\"node\">\n<title>svr</title>\n<g id=\"a_node10\"><a xlink:href=\"https://lale.readthedocs.io/en/latest/modules/lale.lib.sklearn.svc.html\" xlink:title=\"svr = SVR\">\n<ellipse fill=\"#7ec0ee\" stroke=\"#000000\" cx=\"171.501\" cy=\"-34\" rx=\"27\" ry=\"18\"/>\n<text text-anchor=\"middle\" x=\"171.501\" y=\"-31.2\" font-family=\"Times,serif\" font-size=\"11.00\" fill=\"#000000\">SVR</text>\n</a>\n</g>\n</g>\n</g>\n</svg>\n",
            "text/plain": [
              "<graphviz.dot.Digraph at 0x7ff42b9d1358>"
            ]
          },
          "metadata": {
            "tags": []
          }
        }
      ]
    },
    {
      "cell_type": "markdown",
      "metadata": {
        "id": "qdpVAGsoFLIg"
      },
      "source": [
        "We choose the negative mean absolute error metric (which is easier to understand and to interpret) to define the loss function, and let Hyperopt determine the optimal pipeline that minimize the loss."
      ]
    },
    {
      "cell_type": "code",
      "metadata": {
        "id": "QTAVwXROFLIh"
      },
      "source": [
        "scoring = 'neg_mean_absolute_error'\n",
        "pip_selection =  Hyperopt(estimator = pipeline, cv = 3, max_evals = 20, scoring=scoring, max_eval_time=120)"
      ],
      "execution_count": null,
      "outputs": []
    },
    {
      "cell_type": "code",
      "metadata": {
        "id": "p4jbN6RHFLIk",
        "outputId": "03290611-a8dd-44dd-baa4-f7629bfbbee3",
        "colab": {
          "base_uri": "https://localhost:8080/",
          "height": 91
        }
      },
      "source": [
        "#This may take some time...\n",
        "pip_trained = pip_selection.fit(X_train, y_train)"
      ],
      "execution_count": null,
      "outputs": [
        {
          "output_type": "stream",
          "text": [
            "100%|██████████| 20/20 [05:24<00:00, 16.24s/trial, best loss: 6063.389805210011]\n",
            "2 out of 20 trials failed, call summary() for details.\n",
            "Run with verbose=True to see per-trial exceptions.\n"
          ],
          "name": "stdout"
        }
      ]
    },
    {
      "cell_type": "markdown",
      "metadata": {
        "id": "n3rWj8-sFLIl"
      },
      "source": [
        "After that is finished, let's visualize the best pipeline with optimal parameters:"
      ]
    },
    {
      "cell_type": "code",
      "metadata": {
        "id": "cUXeJlrUFLIm",
        "outputId": "782cda50-35d3-478e-8c82-6f7eaf5314c7",
        "colab": {
          "base_uri": "https://localhost:8080/",
          "height": 196
        }
      },
      "source": [
        "pip_trained.get_pipeline().visualize()\n",
        "pip_trained.get_pipeline().pretty_print(ipython_display= True, show_imports= False)"
      ],
      "execution_count": null,
      "outputs": [
        {
          "output_type": "display_data",
          "data": {
            "image/svg+xml": "<?xml version=\"1.0\" encoding=\"UTF-8\" standalone=\"no\"?>\n<!DOCTYPE svg PUBLIC \"-//W3C//DTD SVG 1.1//EN\"\n \"http://www.w3.org/Graphics/SVG/1.1/DTD/svg11.dtd\">\n<!-- Generated by graphviz version 2.40.1 (20161225.0304)\n -->\n<!-- Title: cluster:(root) Pages: 1 -->\n<svg width=\"176pt\" height=\"65pt\"\n viewBox=\"0.00 0.00 175.78 64.57\" xmlns=\"http://www.w3.org/2000/svg\" xmlns:xlink=\"http://www.w3.org/1999/xlink\">\n<g id=\"graph0\" class=\"graph\" transform=\"scale(1 1) rotate(0) translate(4 60.5685)\">\n<title>cluster:(root)</title>\n<g id=\"a_graph0\"><a xlink:title=\"(root) = ...\">\n<polygon fill=\"#ffffff\" stroke=\"transparent\" points=\"-4,4 -4,-60.5685 171.7817,-60.5685 171.7817,4 -4,4\"/>\n</a>\n</g>\n<!-- no_op -->\n<g id=\"node1\" class=\"node\">\n<title>no_op</title>\n<g id=\"a_node1\"><a xlink:href=\"https://lale.readthedocs.io/en/latest/modules/lale.lib.lale.no_op.html\" xlink:title=\"no_op = NoOp()\">\n<ellipse fill=\"#ffffff\" stroke=\"#000000\" cx=\"27\" cy=\"-28.2843\" rx=\"27\" ry=\"19.6\"/>\n<text text-anchor=\"middle\" x=\"27\" y=\"-31.4843\" font-family=\"Times,serif\" font-size=\"11.00\" fill=\"#000000\">No&#45;</text>\n<text text-anchor=\"middle\" x=\"27\" y=\"-19.4843\" font-family=\"Times,serif\" font-size=\"11.00\" fill=\"#000000\">Op</text>\n</a>\n</g>\n</g>\n<!-- extra_trees_regressor -->\n<g id=\"node2\" class=\"node\">\n<title>extra_trees_regressor</title>\n<g id=\"a_node2\"><a xlink:href=\"https://lale.readthedocs.io/en/latest/modules/lale.lib.sklearn.extra_trees_regressor.html\" xlink:title=\"extra_trees_regressor = ExtraTreesRegressor(min_samples_leaf=3, min_samples_split=14, n_estimators=15)\">\n<ellipse fill=\"#ffffff\" stroke=\"#000000\" cx=\"128.8909\" cy=\"-28.2843\" rx=\"38.7821\" ry=\"28.0702\"/>\n<text text-anchor=\"middle\" x=\"128.8909\" y=\"-37.4843\" font-family=\"Times,serif\" font-size=\"11.00\" fill=\"#000000\">Extra&#45;</text>\n<text text-anchor=\"middle\" x=\"128.8909\" y=\"-25.4843\" font-family=\"Times,serif\" font-size=\"11.00\" fill=\"#000000\">Trees&#45;</text>\n<text text-anchor=\"middle\" x=\"128.8909\" y=\"-13.4843\" font-family=\"Times,serif\" font-size=\"11.00\" fill=\"#000000\">Regressor</text>\n</a>\n</g>\n</g>\n<!-- no_op&#45;&gt;extra_trees_regressor -->\n<g id=\"edge1\" class=\"edge\">\n<title>no_op&#45;&gt;extra_trees_regressor</title>\n<path fill=\"none\" stroke=\"#000000\" d=\"M54.0374,-28.2843C61.9191,-28.2843 70.7882,-28.2843 79.5917,-28.2843\"/>\n<polygon fill=\"#000000\" stroke=\"#000000\" points=\"79.833,-31.7844 89.833,-28.2843 79.8329,-24.7844 79.833,-31.7844\"/>\n</g>\n</g>\n</svg>\n",
            "text/plain": [
              "<graphviz.dot.Digraph at 0x7ff42b767d68>"
            ]
          },
          "metadata": {
            "tags": []
          }
        },
        {
          "output_type": "display_data",
          "data": {
            "text/markdown": "```python\nextra_trees_regressor = ExtraTreesRegressor(\n    min_samples_leaf=3, min_samples_split=14, n_estimators=15\n)\npipeline = NoOp() >> extra_trees_regressor\n```",
            "text/plain": [
              "<IPython.core.display.Markdown object>"
            ]
          },
          "metadata": {
            "tags": []
          }
        }
      ]
    },
    {
      "cell_type": "markdown",
      "metadata": {
        "id": "a8pSidqAFLIn"
      },
      "source": [
        "The best pipeline don't use any data normalization, which is easy to understand since the selected ExtraTreesRegressor algorithm is not affected by any data transformation."
      ]
    },
    {
      "cell_type": "code",
      "metadata": {
        "id": "u4ryGV9BFLIn",
        "outputId": "e752e2c9-2a80-40a2-daf8-d86c2c81384c",
        "colab": {
          "base_uri": "https://localhost:8080/",
          "height": 720
        }
      },
      "source": [
        "# Summary of all pipelines:\n",
        "pip_trained.summary()"
      ],
      "execution_count": null,
      "outputs": [
        {
          "output_type": "execute_result",
          "data": {
            "text/html": [
              "<div>\n",
              "<style scoped>\n",
              "    .dataframe tbody tr th:only-of-type {\n",
              "        vertical-align: middle;\n",
              "    }\n",
              "\n",
              "    .dataframe tbody tr th {\n",
              "        vertical-align: top;\n",
              "    }\n",
              "\n",
              "    .dataframe thead th {\n",
              "        text-align: right;\n",
              "    }\n",
              "</style>\n",
              "<table border=\"1\" class=\"dataframe\">\n",
              "  <thead>\n",
              "    <tr style=\"text-align: right;\">\n",
              "      <th></th>\n",
              "      <th>tid</th>\n",
              "      <th>loss</th>\n",
              "      <th>time</th>\n",
              "      <th>log_loss</th>\n",
              "      <th>status</th>\n",
              "    </tr>\n",
              "    <tr>\n",
              "      <th>name</th>\n",
              "      <th></th>\n",
              "      <th></th>\n",
              "      <th></th>\n",
              "      <th></th>\n",
              "      <th></th>\n",
              "    </tr>\n",
              "  </thead>\n",
              "  <tbody>\n",
              "    <tr>\n",
              "      <th>p0</th>\n",
              "      <td>0</td>\n",
              "      <td>12851.601641</td>\n",
              "      <td>1.014907</td>\n",
              "      <td>NaN</td>\n",
              "      <td>ok</td>\n",
              "    </tr>\n",
              "    <tr>\n",
              "      <th>p1</th>\n",
              "      <td>1</td>\n",
              "      <td>20644.109174</td>\n",
              "      <td>1.332602</td>\n",
              "      <td>NaN</td>\n",
              "      <td>ok</td>\n",
              "    </tr>\n",
              "    <tr>\n",
              "      <th>p2</th>\n",
              "      <td>2</td>\n",
              "      <td>14347.747392</td>\n",
              "      <td>0.190050</td>\n",
              "      <td>NaN</td>\n",
              "      <td>ok</td>\n",
              "    </tr>\n",
              "    <tr>\n",
              "      <th>p3</th>\n",
              "      <td>3</td>\n",
              "      <td>14347.747392</td>\n",
              "      <td>0.245012</td>\n",
              "      <td>NaN</td>\n",
              "      <td>ok</td>\n",
              "    </tr>\n",
              "    <tr>\n",
              "      <th>p4</th>\n",
              "      <td>4</td>\n",
              "      <td>NaN</td>\n",
              "      <td>NaN</td>\n",
              "      <td>NaN</td>\n",
              "      <td>fail</td>\n",
              "    </tr>\n",
              "    <tr>\n",
              "      <th>p5</th>\n",
              "      <td>5</td>\n",
              "      <td>NaN</td>\n",
              "      <td>NaN</td>\n",
              "      <td>NaN</td>\n",
              "      <td>fail</td>\n",
              "    </tr>\n",
              "    <tr>\n",
              "      <th>p6</th>\n",
              "      <td>6</td>\n",
              "      <td>13818.355482</td>\n",
              "      <td>0.548094</td>\n",
              "      <td>NaN</td>\n",
              "      <td>ok</td>\n",
              "    </tr>\n",
              "    <tr>\n",
              "      <th>p7</th>\n",
              "      <td>7</td>\n",
              "      <td>12490.583756</td>\n",
              "      <td>2.926019</td>\n",
              "      <td>NaN</td>\n",
              "      <td>ok</td>\n",
              "    </tr>\n",
              "    <tr>\n",
              "      <th>p8</th>\n",
              "      <td>8</td>\n",
              "      <td>14334.780788</td>\n",
              "      <td>0.232463</td>\n",
              "      <td>NaN</td>\n",
              "      <td>ok</td>\n",
              "    </tr>\n",
              "    <tr>\n",
              "      <th>p9</th>\n",
              "      <td>9</td>\n",
              "      <td>14334.630982</td>\n",
              "      <td>0.241226</td>\n",
              "      <td>NaN</td>\n",
              "      <td>ok</td>\n",
              "    </tr>\n",
              "    <tr>\n",
              "      <th>p10</th>\n",
              "      <td>10</td>\n",
              "      <td>11614.985328</td>\n",
              "      <td>7.909969</td>\n",
              "      <td>NaN</td>\n",
              "      <td>ok</td>\n",
              "    </tr>\n",
              "    <tr>\n",
              "      <th>p11</th>\n",
              "      <td>11</td>\n",
              "      <td>6063.389805</td>\n",
              "      <td>3.203707</td>\n",
              "      <td>NaN</td>\n",
              "      <td>ok</td>\n",
              "    </tr>\n",
              "    <tr>\n",
              "      <th>p12</th>\n",
              "      <td>12</td>\n",
              "      <td>11840.227698</td>\n",
              "      <td>1.972467</td>\n",
              "      <td>NaN</td>\n",
              "      <td>ok</td>\n",
              "    </tr>\n",
              "    <tr>\n",
              "      <th>p13</th>\n",
              "      <td>13</td>\n",
              "      <td>14347.747392</td>\n",
              "      <td>0.186241</td>\n",
              "      <td>NaN</td>\n",
              "      <td>ok</td>\n",
              "    </tr>\n",
              "    <tr>\n",
              "      <th>p14</th>\n",
              "      <td>14</td>\n",
              "      <td>14334.630982</td>\n",
              "      <td>0.229918</td>\n",
              "      <td>NaN</td>\n",
              "      <td>ok</td>\n",
              "    </tr>\n",
              "    <tr>\n",
              "      <th>p15</th>\n",
              "      <td>15</td>\n",
              "      <td>14347.747392</td>\n",
              "      <td>0.233979</td>\n",
              "      <td>NaN</td>\n",
              "      <td>ok</td>\n",
              "    </tr>\n",
              "    <tr>\n",
              "      <th>p16</th>\n",
              "      <td>16</td>\n",
              "      <td>12614.475040</td>\n",
              "      <td>1.227134</td>\n",
              "      <td>NaN</td>\n",
              "      <td>ok</td>\n",
              "    </tr>\n",
              "    <tr>\n",
              "      <th>p17</th>\n",
              "      <td>17</td>\n",
              "      <td>14347.747392</td>\n",
              "      <td>0.259672</td>\n",
              "      <td>NaN</td>\n",
              "      <td>ok</td>\n",
              "    </tr>\n",
              "    <tr>\n",
              "      <th>p18</th>\n",
              "      <td>18</td>\n",
              "      <td>14134.171857</td>\n",
              "      <td>0.515606</td>\n",
              "      <td>NaN</td>\n",
              "      <td>ok</td>\n",
              "    </tr>\n",
              "    <tr>\n",
              "      <th>p19</th>\n",
              "      <td>19</td>\n",
              "      <td>14347.747392</td>\n",
              "      <td>0.236774</td>\n",
              "      <td>NaN</td>\n",
              "      <td>ok</td>\n",
              "    </tr>\n",
              "  </tbody>\n",
              "</table>\n",
              "</div>"
            ],
            "text/plain": [
              "      tid          loss      time  log_loss status\n",
              "name                                              \n",
              "p0      0  12851.601641  1.014907       NaN     ok\n",
              "p1      1  20644.109174  1.332602       NaN     ok\n",
              "p2      2  14347.747392  0.190050       NaN     ok\n",
              "p3      3  14347.747392  0.245012       NaN     ok\n",
              "p4      4           NaN       NaN       NaN   fail\n",
              "p5      5           NaN       NaN       NaN   fail\n",
              "p6      6  13818.355482  0.548094       NaN     ok\n",
              "p7      7  12490.583756  2.926019       NaN     ok\n",
              "p8      8  14334.780788  0.232463       NaN     ok\n",
              "p9      9  14334.630982  0.241226       NaN     ok\n",
              "p10    10  11614.985328  7.909969       NaN     ok\n",
              "p11    11   6063.389805  3.203707       NaN     ok\n",
              "p12    12  11840.227698  1.972467       NaN     ok\n",
              "p13    13  14347.747392  0.186241       NaN     ok\n",
              "p14    14  14334.630982  0.229918       NaN     ok\n",
              "p15    15  14347.747392  0.233979       NaN     ok\n",
              "p16    16  12614.475040  1.227134       NaN     ok\n",
              "p17    17  14347.747392  0.259672       NaN     ok\n",
              "p18    18  14134.171857  0.515606       NaN     ok\n",
              "p19    19  14347.747392  0.236774       NaN     ok"
            ]
          },
          "metadata": {
            "tags": []
          },
          "execution_count": 145
        }
      ]
    },
    {
      "cell_type": "code",
      "metadata": {
        "id": "8mWTLdPmFLIo",
        "outputId": "7e920a48-12c6-4f3e-de99-9771bd266da1",
        "colab": {
          "base_uri": "https://localhost:8080/",
          "height": 73
        }
      },
      "source": [
        "best = pip_trained.summary().loss.argmin()\n",
        "loss_b = pip_trained.summary().loss.min()\n",
        "worst = pip_trained.summary().loss.argmax()\n",
        "loss_w = pip_trained.summary().loss.max()\n",
        "print(f'The best pipeline is {best} with a loss of {loss_b}')\n",
        "print(f'The worst pipeline is {worst} with a loss of {loss_w}')"
      ],
      "execution_count": null,
      "outputs": [
        {
          "output_type": "stream",
          "text": [
            "The best pipeline is 11 with a loss of 6063.389805210011\n",
            "The worst pipeline is 1 with a loss of 20644.109173634522\n"
          ],
          "name": "stdout"
        }
      ]
    },
    {
      "cell_type": "markdown",
      "metadata": {
        "id": "t1YHcvmjFLIq"
      },
      "source": [
        "# Final Model & Predictions"
      ]
    },
    {
      "cell_type": "markdown",
      "metadata": {
        "id": "6rAioedhFLIq"
      },
      "source": [
        "Now, I will train the model on the entire training dataset using the ExtraTreesRegressor model with optimal parameters:"
      ]
    },
    {
      "cell_type": "code",
      "metadata": {
        "id": "D4Gldi_SFLIq",
        "colab": {
          "background_save": true
        }
      },
      "source": [
        "extra_trees_regressor = ExtraTreesRegressor(min_samples_leaf=3, min_samples_split=14, n_estimators=15)\n",
        "extra_trees_regressor.fit(X_train, y_train)"
      ],
      "execution_count": null,
      "outputs": []
    },
    {
      "cell_type": "code",
      "metadata": {
        "id": "lk6X5IvLFLIs",
        "colab": {
          "background_save": true
        }
      },
      "source": [
        "X_test = test.drop(['Type', 'year'], axis=1)"
      ],
      "execution_count": null,
      "outputs": []
    },
    {
      "cell_type": "markdown",
      "metadata": {
        "id": "mg67Rxr0FLIu"
      },
      "source": [
        "Make and evaluate predictions:"
      ]
    },
    {
      "cell_type": "code",
      "metadata": {
        "id": "FG-af3IeFLIu",
        "colab": {
          "background_save": true
        }
      },
      "source": [
        "predictions = extra_trees_regressor.predict(X_test)"
      ],
      "execution_count": null,
      "outputs": []
    },
    {
      "cell_type": "markdown",
      "metadata": {
        "id": "p2YCTUSvFLIw"
      },
      "source": [
        "After making predictions, the most common question I ask myself is; can I trust certain predictions and take actions based on them?\n",
        "\n",
        "The help eliminate my doubt, I will use  LIME and its techniques to explain some predictions."
      ]
    },
    {
      "cell_type": "markdown",
      "metadata": {
        "id": "xGjx72jOFLIw"
      },
      "source": [
        "Firstly, we define the explainer provided by LIME"
      ]
    },
    {
      "cell_type": "code",
      "metadata": {
        "id": "VBiIvYmaFLIx",
        "colab": {
          "background_save": true
        }
      },
      "source": [
        "import lime\n",
        "import lime.lime_tabular\n",
        "# Define the explainer:\n",
        "X_train_arr = X_train.to_numpy()\n",
        "explainer = lime.lime_tabular.LimeTabularExplainer(X_train_arr, feature_names=X_train.columns, \n",
        "            class_names=['Weekly_Sales'], verbose=False, mode='regression',\n",
        "            categorical_features=['IsHoliday'], discretizer='decile', random_state=5)"
      ],
      "execution_count": null,
      "outputs": []
    },
    {
      "cell_type": "markdown",
      "metadata": {
        "id": "2eOH324bFLIy"
      },
      "source": [
        "Now we select 2 instances, the first isn't a Holiday week, the second is, and we show explanations."
      ]
    },
    {
      "cell_type": "code",
      "metadata": {
        "id": "eT7ICYy2FLIz",
        "colab": {
          "background_save": true
        }
      },
      "source": [
        "X_test_arr = X_test.to_numpy()\n",
        "i = 1\n",
        "exp = explainer.explain_instance(X_test_arr[i], extra_trees_regressor.predict, num_features=5)\n",
        "exp.show_in_notebook(labels=None, predict_proba=True, show_predicted_value=True)\n",
        "print(f'Document id: {i}')\n",
        "print('Weekly Sales prediction:', extra_trees_regressor.predict(X_test_arr)[i])\n",
        "print ('Explanation for prediction:')\n",
        "print ('\\n'.join(map(str, exp.as_list())))"
      ],
      "execution_count": null,
      "outputs": []
    },
    {
      "cell_type": "code",
      "metadata": {
        "id": "-Iiiz6oYFLI0",
        "colab": {
          "background_save": true
        }
      },
      "source": [
        "i = 10055\n",
        "exp = explainer.explain_instance(X_test_arr[i], extra_trees_regressor.predict, num_features=5)\n",
        "exp.show_in_notebook(labels=None, predict_proba=True, show_predicted_value=True)\n",
        "print(f'Document id: {i}')\n",
        "print('Weekly Sales prediction:', extra_trees_regressor.predict(X_test_arr)[i])\n",
        "print ('Explanation for prediction:')\n",
        "print ('\\n'.join(map(str, exp.as_list())))"
      ],
      "execution_count": null,
      "outputs": []
    },
    {
      "cell_type": "markdown",
      "metadata": {
        "id": "_KRQSh6fFLI2"
      },
      "source": [
        "We can see how each attribute contributes to the prediction, either positively or negatively.\n",
        "\n",
        "The Holiday Flag is 0 in the first instance, which negatively affects predicted Sales and Dept 1 has relatively high Sales which positively impacts predicted Sales.\n",
        "\n",
        "Otherwise, the large size of the second example contributes significantly to predicted Sales, in contrast to Dept 67, with relatively low Sales, negatively affects predicted Sales.\n",
        "\n",
        "-> I can say after studying it further, these predictions are trustworthy."
      ]
    },
    {
      "cell_type": "markdown",
      "metadata": {
        "id": "nz6Xcz6rFLI2"
      },
      "source": [
        "But can we say now that we trust the model to exploit it in real life?...\n",
        "\n",
        "To see if we can trust the model, a global explanation of it is required. So we will select a representative and non-redundant set of explanations that provide a global perspective on the model.\n",
        "\n",
        "I will do this by using SP-LIME, which is an extension of LIME.\n"
      ]
    },
    {
      "cell_type": "code",
      "metadata": {
        "id": "wj7FH8FvFLI2",
        "colab": {
          "background_save": true
        }
      },
      "source": [
        "# Code for SP-LIME\n",
        "import warnings\n",
        "from lime import submodular_pick\n",
        "\n",
        "sp_obj = submodular_pick.SubmodularPick(explainer, X_test_arr, extra_trees_regressor.predict, num_features=5,num_exps_desired=8)\n",
        "\n",
        "[exp.show_in_notebook() for exp in sp_obj.sp_explanations]"
      ],
      "execution_count": null,
      "outputs": []
    },
    {
      "cell_type": "markdown",
      "metadata": {
        "id": "O_KcOMbqFLI3"
      },
      "source": [
        "After analyzing these explanations we can say that they are trustworthy and the model can be trusted as well. "
      ]
    },
    {
      "cell_type": "markdown",
      "metadata": {
        "id": "hFobqsNiFLI4"
      },
      "source": [
        "Now that we have assumed the predictions are trustworthy, I will suggest some actions to take based on these predictions.  \n",
        "\n",
        "I will plot Weekly Sales over number of weeks, knowing that predictions begin at Week 44, 2012 and end at Week 30, 2013."
      ]
    },
    {
      "cell_type": "code",
      "metadata": {
        "id": "ojoxxBCaFLI4"
      },
      "source": [
        "# test data\n",
        "predictions = pd.DataFrame(predictions, columns=['Weekly_Sales'])\n",
        "test_ = pd.concat([test.drop('Type', axis=1),predictions],axis=1)\n",
        "# training data\n",
        "WS_train = pd.DataFrame(train.Weekly_Sales, columns=['Weekly_Sales'])\n",
        "train_ = pd.concat([X.drop('Type', axis=1),WS_train],axis=1)\n",
        "# data\n",
        "data = pd.concat([test_,train_])"
      ],
      "execution_count": null,
      "outputs": []
    },
    {
      "cell_type": "code",
      "metadata": {
        "id": "M-pQufguFLI5"
      },
      "source": [
        "# Distribution of sales over weeks:\n",
        "fig, ax = plt.subplots(figsize=(18, 12))\n",
        "palette = sns.color_palette(\"mako_r\", 4)\n",
        "fig = sns.lineplot(x='week', y='Weekly_Sales', data = data, hue='year', err_style=None, palette=palette)\n",
        "plt.xticks(np.arange(1, 53, step=1))\n",
        "plt.show()"
      ],
      "execution_count": null,
      "outputs": []
    },
    {
      "cell_type": "markdown",
      "metadata": {
        "id": "R-YBVIZEFLI7"
      },
      "source": [
        "##Final Analysis & Discount Suggestions\n",
        "\n",
        "As you can see, the plot of predicted Sales has the same signature as the original Sales.  \n",
        "The model predicts low Sales right after Easter Day, starting from Week 14, for that reason planning bundled and volume discounts during these Weeks may improve Sales. \n",
        "\n",
        "The same goes for Weeks before Thanksgiving Holiday.  Moreover, event discounts in some Weeks' Holiday wich have relatively low sales (SuperBowl, Easter Day, Memorial Day, Independence Day and Labor Day) compared to other Weeks' Holiday (Thanksgiving or Christmas), may potentially enhance Sales.  "
      ]
    }
  ]
}